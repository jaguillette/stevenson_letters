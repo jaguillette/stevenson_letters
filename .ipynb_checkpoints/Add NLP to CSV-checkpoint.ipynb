{
 "cells": [
  {
   "cell_type": "code",
   "execution_count": 8,
   "metadata": {
    "collapsed": true
   },
   "outputs": [],
   "source": [
    "import pandas as pd\n",
    "import os\n",
    "import json\n",
    "import nltk"
   ]
  },
  {
   "cell_type": "code",
   "execution_count": 9,
   "metadata": {},
   "outputs": [
    {
     "data": {
      "text/html": [
       "<div>\n",
       "<style>\n",
       "    .dataframe thead tr:only-child th {\n",
       "        text-align: right;\n",
       "    }\n",
       "\n",
       "    .dataframe thead th {\n",
       "        text-align: left;\n",
       "    }\n",
       "\n",
       "    .dataframe tbody tr th {\n",
       "        vertical-align: top;\n",
       "    }\n",
       "</style>\n",
       "<table border=\"1\" class=\"dataframe\">\n",
       "  <thead>\n",
       "    <tr style=\"text-align: right;\">\n",
       "      <th></th>\n",
       "      <th>addressee</th>\n",
       "      <th>date</th>\n",
       "      <th>Month</th>\n",
       "      <th>DayOfMonth</th>\n",
       "      <th>Year</th>\n",
       "      <th>location</th>\n",
       "    </tr>\n",
       "  </thead>\n",
       "  <tbody>\n",
       "    <tr>\n",
       "      <th>0</th>\n",
       "      <td>SPRING GROVE SCHOOL</td>\n",
       "      <td>NOVEMBER 12 1863</td>\n",
       "      <td>NOVEMBER</td>\n",
       "      <td>12.0</td>\n",
       "      <td>1863.0</td>\n",
       "      <td>letters/wikisource_vol1_ch1_letter1.html</td>\n",
       "    </tr>\n",
       "    <tr>\n",
       "      <th>1</th>\n",
       "      <td>CHARLES BAXTER</td>\n",
       "      <td>APRIL 9 1872</td>\n",
       "      <td>APRIL</td>\n",
       "      <td>9.0</td>\n",
       "      <td>1872.0</td>\n",
       "      <td>letters/wikisource_vol1_ch1_letter10.html</td>\n",
       "    </tr>\n",
       "    <tr>\n",
       "      <th>2</th>\n",
       "      <td>MRS. THOMAS STEVENSON</td>\n",
       "      <td>JULY 25 1872</td>\n",
       "      <td>JULY</td>\n",
       "      <td>25.0</td>\n",
       "      <td>1872.0</td>\n",
       "      <td>letters/wikisource_vol1_ch1_letter11.html</td>\n",
       "    </tr>\n",
       "    <tr>\n",
       "      <th>3</th>\n",
       "      <td>MRS. THOMAS STEVENSON</td>\n",
       "      <td>JULY 29 1872</td>\n",
       "      <td>JULY</td>\n",
       "      <td>29.0</td>\n",
       "      <td>1872.0</td>\n",
       "      <td>letters/wikisource_vol1_ch1_letter12.html</td>\n",
       "    </tr>\n",
       "    <tr>\n",
       "      <th>4</th>\n",
       "      <td>MRS. THOMAS STEVENSON</td>\n",
       "      <td>AUGUST 2 1872</td>\n",
       "      <td>AUGUST</td>\n",
       "      <td>2.0</td>\n",
       "      <td>1872.0</td>\n",
       "      <td>letters/wikisource_vol1_ch1_letter13.html</td>\n",
       "    </tr>\n",
       "  </tbody>\n",
       "</table>\n",
       "</div>"
      ],
      "text/plain": [
       "               addressee              date     Month  DayOfMonth    Year  \\\n",
       "0    SPRING GROVE SCHOOL  NOVEMBER 12 1863  NOVEMBER        12.0  1863.0   \n",
       "1         CHARLES BAXTER      APRIL 9 1872     APRIL         9.0  1872.0   \n",
       "2  MRS. THOMAS STEVENSON      JULY 25 1872      JULY        25.0  1872.0   \n",
       "3  MRS. THOMAS STEVENSON      JULY 29 1872      JULY        29.0  1872.0   \n",
       "4  MRS. THOMAS STEVENSON     AUGUST 2 1872    AUGUST         2.0  1872.0   \n",
       "\n",
       "                                    location  \n",
       "0   letters/wikisource_vol1_ch1_letter1.html  \n",
       "1  letters/wikisource_vol1_ch1_letter10.html  \n",
       "2  letters/wikisource_vol1_ch1_letter11.html  \n",
       "3  letters/wikisource_vol1_ch1_letter12.html  \n",
       "4  letters/wikisource_vol1_ch1_letter13.html  "
      ]
     },
     "execution_count": 9,
     "metadata": {},
     "output_type": "execute_result"
    }
   ],
   "source": [
    "df = pd.read_csv(\"letters_data_cleaned.csv\")\n",
    "df.head()"
   ]
  },
  {
   "cell_type": "code",
   "execution_count": 10,
   "metadata": {
    "collapsed": true
   },
   "outputs": [],
   "source": [
    "with open('nlp/google-sentiment/wikisource_vol1_ch1_letter1.json','r') as fp:\n",
    "    sentiment = json.load(fp)"
   ]
  },
  {
   "cell_type": "code",
   "execution_count": 11,
   "metadata": {},
   "outputs": [
    {
     "data": {
      "text/plain": [
       "{'magnitude': 3.799999952316284}"
      ]
     },
     "execution_count": 11,
     "metadata": {},
     "output_type": "execute_result"
    }
   ],
   "source": [
    "sentiment['document_sentiment']"
   ]
  },
  {
   "cell_type": "code",
   "execution_count": 12,
   "metadata": {
    "collapsed": true
   },
   "outputs": [],
   "source": [
    "def aggregate_sentiment(sentiment):\n",
    "    score = 0\n",
    "    magnitude = 0\n",
    "    for s in sentiment['sentences']:\n",
    "        if len(s['sentiment']) > 0:\n",
    "            score += s['sentiment']['score']\n",
    "            magnitude += s['sentiment']['magnitude']\n",
    "    return score,magnitude"
   ]
  },
  {
   "cell_type": "code",
   "execution_count": 13,
   "metadata": {},
   "outputs": [
    {
     "data": {
      "text/plain": [
       "(-1.2000000327825546, 3.4000000208616257)"
      ]
     },
     "execution_count": 13,
     "metadata": {},
     "output_type": "execute_result"
    }
   ],
   "source": [
    "aggregate_sentiment(sentiment)"
   ]
  },
  {
   "cell_type": "code",
   "execution_count": 14,
   "metadata": {
    "collapsed": true
   },
   "outputs": [],
   "source": [
    "def get_saved_sentiment(location):\n",
    "    \"\"\"Takes the location of a text file, uses naming conventions to return saved sentiment from matching json file\"\"\"\n",
    "    filename = os.path.split(location)[-1]\n",
    "    filename = filename.replace('html','json')\n",
    "    json_location = os.path.join('nlp','google-sentiment',filename)\n",
    "    with open(json_location,'r') as fp:\n",
    "        sentiment = json.load(fp)\n",
    "    return aggregate_sentiment(sentiment)"
   ]
  },
  {
   "cell_type": "code",
   "execution_count": 15,
   "metadata": {
    "scrolled": true
   },
   "outputs": [
    {
     "data": {
      "text/plain": [
       "(0.9000000283122063, 8.500000186264515)"
      ]
     },
     "execution_count": 15,
     "metadata": {},
     "output_type": "execute_result"
    }
   ],
   "source": [
    "get_saved_sentiment(df.location[2])"
   ]
  },
  {
   "cell_type": "code",
   "execution_count": 16,
   "metadata": {
    "collapsed": true
   },
   "outputs": [],
   "source": [
    "df['score'],df['magnitude'] = zip(*df.location.apply(get_saved_sentiment))"
   ]
  },
  {
   "cell_type": "code",
   "execution_count": 17,
   "metadata": {},
   "outputs": [
    {
     "data": {
      "text/html": [
       "<div>\n",
       "<style>\n",
       "    .dataframe thead tr:only-child th {\n",
       "        text-align: right;\n",
       "    }\n",
       "\n",
       "    .dataframe thead th {\n",
       "        text-align: left;\n",
       "    }\n",
       "\n",
       "    .dataframe tbody tr th {\n",
       "        vertical-align: top;\n",
       "    }\n",
       "</style>\n",
       "<table border=\"1\" class=\"dataframe\">\n",
       "  <thead>\n",
       "    <tr style=\"text-align: right;\">\n",
       "      <th></th>\n",
       "      <th>addressee</th>\n",
       "      <th>date</th>\n",
       "      <th>Month</th>\n",
       "      <th>DayOfMonth</th>\n",
       "      <th>Year</th>\n",
       "      <th>location</th>\n",
       "      <th>score</th>\n",
       "      <th>magnitude</th>\n",
       "    </tr>\n",
       "  </thead>\n",
       "  <tbody>\n",
       "    <tr>\n",
       "      <th>0</th>\n",
       "      <td>SPRING GROVE SCHOOL</td>\n",
       "      <td>NOVEMBER 12 1863</td>\n",
       "      <td>NOVEMBER</td>\n",
       "      <td>12.0</td>\n",
       "      <td>1863.0</td>\n",
       "      <td>letters/wikisource_vol1_ch1_letter1.html</td>\n",
       "      <td>-1.2</td>\n",
       "      <td>3.4</td>\n",
       "    </tr>\n",
       "    <tr>\n",
       "      <th>1</th>\n",
       "      <td>CHARLES BAXTER</td>\n",
       "      <td>APRIL 9 1872</td>\n",
       "      <td>APRIL</td>\n",
       "      <td>9.0</td>\n",
       "      <td>1872.0</td>\n",
       "      <td>letters/wikisource_vol1_ch1_letter10.html</td>\n",
       "      <td>-0.9</td>\n",
       "      <td>3.9</td>\n",
       "    </tr>\n",
       "    <tr>\n",
       "      <th>2</th>\n",
       "      <td>MRS. THOMAS STEVENSON</td>\n",
       "      <td>JULY 25 1872</td>\n",
       "      <td>JULY</td>\n",
       "      <td>25.0</td>\n",
       "      <td>1872.0</td>\n",
       "      <td>letters/wikisource_vol1_ch1_letter11.html</td>\n",
       "      <td>0.9</td>\n",
       "      <td>8.5</td>\n",
       "    </tr>\n",
       "    <tr>\n",
       "      <th>3</th>\n",
       "      <td>MRS. THOMAS STEVENSON</td>\n",
       "      <td>JULY 29 1872</td>\n",
       "      <td>JULY</td>\n",
       "      <td>29.0</td>\n",
       "      <td>1872.0</td>\n",
       "      <td>letters/wikisource_vol1_ch1_letter12.html</td>\n",
       "      <td>0.1</td>\n",
       "      <td>5.1</td>\n",
       "    </tr>\n",
       "    <tr>\n",
       "      <th>4</th>\n",
       "      <td>MRS. THOMAS STEVENSON</td>\n",
       "      <td>AUGUST 2 1872</td>\n",
       "      <td>AUGUST</td>\n",
       "      <td>2.0</td>\n",
       "      <td>1872.0</td>\n",
       "      <td>letters/wikisource_vol1_ch1_letter13.html</td>\n",
       "      <td>-2.6</td>\n",
       "      <td>12.0</td>\n",
       "    </tr>\n",
       "  </tbody>\n",
       "</table>\n",
       "</div>"
      ],
      "text/plain": [
       "               addressee              date     Month  DayOfMonth    Year  \\\n",
       "0    SPRING GROVE SCHOOL  NOVEMBER 12 1863  NOVEMBER        12.0  1863.0   \n",
       "1         CHARLES BAXTER      APRIL 9 1872     APRIL         9.0  1872.0   \n",
       "2  MRS. THOMAS STEVENSON      JULY 25 1872      JULY        25.0  1872.0   \n",
       "3  MRS. THOMAS STEVENSON      JULY 29 1872      JULY        29.0  1872.0   \n",
       "4  MRS. THOMAS STEVENSON     AUGUST 2 1872    AUGUST         2.0  1872.0   \n",
       "\n",
       "                                    location  score  magnitude  \n",
       "0   letters/wikisource_vol1_ch1_letter1.html   -1.2        3.4  \n",
       "1  letters/wikisource_vol1_ch1_letter10.html   -0.9        3.9  \n",
       "2  letters/wikisource_vol1_ch1_letter11.html    0.9        8.5  \n",
       "3  letters/wikisource_vol1_ch1_letter12.html    0.1        5.1  \n",
       "4  letters/wikisource_vol1_ch1_letter13.html   -2.6       12.0  "
      ]
     },
     "execution_count": 17,
     "metadata": {},
     "output_type": "execute_result"
    }
   ],
   "source": [
    "df.head()"
   ]
  },
  {
   "cell_type": "code",
   "execution_count": 28,
   "metadata": {},
   "outputs": [],
   "source": [
    "df2 = pd.read_csv(\"all_letters.csv\")"
   ]
  },
  {
   "cell_type": "code",
   "execution_count": 29,
   "metadata": {},
   "outputs": [],
   "source": [
    "df2['location'] = df2.filename.apply(lambda x: \"letters/{}.html\".format(x))"
   ]
  },
  {
   "cell_type": "code",
   "execution_count": 32,
   "metadata": {},
   "outputs": [],
   "source": [
    "df = pd.merge(df,df2,how=\"left\",on=\"location\")"
   ]
  },
  {
   "cell_type": "code",
   "execution_count": 33,
   "metadata": {},
   "outputs": [
    {
     "data": {
      "text/html": [
       "<div>\n",
       "<style>\n",
       "    .dataframe thead tr:only-child th {\n",
       "        text-align: right;\n",
       "    }\n",
       "\n",
       "    .dataframe thead th {\n",
       "        text-align: left;\n",
       "    }\n",
       "\n",
       "    .dataframe tbody tr th {\n",
       "        vertical-align: top;\n",
       "    }\n",
       "</style>\n",
       "<table border=\"1\" class=\"dataframe\">\n",
       "  <thead>\n",
       "    <tr style=\"text-align: right;\">\n",
       "      <th></th>\n",
       "      <th>addressee</th>\n",
       "      <th>date</th>\n",
       "      <th>Month</th>\n",
       "      <th>DayOfMonth</th>\n",
       "      <th>Year</th>\n",
       "      <th>location</th>\n",
       "      <th>score</th>\n",
       "      <th>magnitude</th>\n",
       "      <th>filename</th>\n",
       "      <th>letter_text</th>\n",
       "    </tr>\n",
       "  </thead>\n",
       "  <tbody>\n",
       "    <tr>\n",
       "      <th>0</th>\n",
       "      <td>SPRING GROVE SCHOOL</td>\n",
       "      <td>NOVEMBER 12 1863</td>\n",
       "      <td>NOVEMBER</td>\n",
       "      <td>12.0</td>\n",
       "      <td>1863.0</td>\n",
       "      <td>letters/wikisource_vol1_ch1_letter1.html</td>\n",
       "      <td>-1.2</td>\n",
       "      <td>3.4</td>\n",
       "      <td>wikisource_vol1_ch1_letter1</td>\n",
       "      <td>&lt;div class=\"prose\"&gt;\\n&lt;p&gt;Letter: SPRING GROVE S...</td>\n",
       "    </tr>\n",
       "    <tr>\n",
       "      <th>1</th>\n",
       "      <td>CHARLES BAXTER</td>\n",
       "      <td>APRIL 9 1872</td>\n",
       "      <td>APRIL</td>\n",
       "      <td>9.0</td>\n",
       "      <td>1872.0</td>\n",
       "      <td>letters/wikisource_vol1_ch1_letter10.html</td>\n",
       "      <td>-0.9</td>\n",
       "      <td>3.9</td>\n",
       "      <td>wikisource_vol1_ch1_letter10</td>\n",
       "      <td>&lt;p&gt;Letter: TO CHARLES BAXTER&lt;/p&gt;\\n&lt;p&gt;&lt;br&gt;&lt;/p&gt;\\...</td>\n",
       "    </tr>\n",
       "    <tr>\n",
       "      <th>2</th>\n",
       "      <td>MRS. THOMAS STEVENSON</td>\n",
       "      <td>JULY 25 1872</td>\n",
       "      <td>JULY</td>\n",
       "      <td>25.0</td>\n",
       "      <td>1872.0</td>\n",
       "      <td>letters/wikisource_vol1_ch1_letter11.html</td>\n",
       "      <td>0.9</td>\n",
       "      <td>8.5</td>\n",
       "      <td>wikisource_vol1_ch1_letter11</td>\n",
       "      <td>&lt;p&gt;Letter: TO MRS. THOMAS STEVENSON&lt;/p&gt;\\n&lt;p&gt;&lt;b...</td>\n",
       "    </tr>\n",
       "    <tr>\n",
       "      <th>3</th>\n",
       "      <td>MRS. THOMAS STEVENSON</td>\n",
       "      <td>JULY 29 1872</td>\n",
       "      <td>JULY</td>\n",
       "      <td>29.0</td>\n",
       "      <td>1872.0</td>\n",
       "      <td>letters/wikisource_vol1_ch1_letter12.html</td>\n",
       "      <td>0.1</td>\n",
       "      <td>5.1</td>\n",
       "      <td>wikisource_vol1_ch1_letter12</td>\n",
       "      <td>&lt;p&gt;Letter: TO MRS. THOMAS STEVENSON&lt;/p&gt;\\n&lt;p&gt;&lt;b...</td>\n",
       "    </tr>\n",
       "    <tr>\n",
       "      <th>4</th>\n",
       "      <td>MRS. THOMAS STEVENSON</td>\n",
       "      <td>AUGUST 2 1872</td>\n",
       "      <td>AUGUST</td>\n",
       "      <td>2.0</td>\n",
       "      <td>1872.0</td>\n",
       "      <td>letters/wikisource_vol1_ch1_letter13.html</td>\n",
       "      <td>-2.6</td>\n",
       "      <td>12.0</td>\n",
       "      <td>wikisource_vol1_ch1_letter13</td>\n",
       "      <td>&lt;p&gt;Letter: TO MRS. THOMAS STEVENSON&lt;/p&gt;\\n&lt;p&gt;&lt;b...</td>\n",
       "    </tr>\n",
       "  </tbody>\n",
       "</table>\n",
       "</div>"
      ],
      "text/plain": [
       "               addressee              date     Month  DayOfMonth    Year  \\\n",
       "0    SPRING GROVE SCHOOL  NOVEMBER 12 1863  NOVEMBER        12.0  1863.0   \n",
       "1         CHARLES BAXTER      APRIL 9 1872     APRIL         9.0  1872.0   \n",
       "2  MRS. THOMAS STEVENSON      JULY 25 1872      JULY        25.0  1872.0   \n",
       "3  MRS. THOMAS STEVENSON      JULY 29 1872      JULY        29.0  1872.0   \n",
       "4  MRS. THOMAS STEVENSON     AUGUST 2 1872    AUGUST         2.0  1872.0   \n",
       "\n",
       "                                    location  score  magnitude  \\\n",
       "0   letters/wikisource_vol1_ch1_letter1.html   -1.2        3.4   \n",
       "1  letters/wikisource_vol1_ch1_letter10.html   -0.9        3.9   \n",
       "2  letters/wikisource_vol1_ch1_letter11.html    0.9        8.5   \n",
       "3  letters/wikisource_vol1_ch1_letter12.html    0.1        5.1   \n",
       "4  letters/wikisource_vol1_ch1_letter13.html   -2.6       12.0   \n",
       "\n",
       "                       filename  \\\n",
       "0   wikisource_vol1_ch1_letter1   \n",
       "1  wikisource_vol1_ch1_letter10   \n",
       "2  wikisource_vol1_ch1_letter11   \n",
       "3  wikisource_vol1_ch1_letter12   \n",
       "4  wikisource_vol1_ch1_letter13   \n",
       "\n",
       "                                         letter_text  \n",
       "0  <div class=\"prose\">\\n<p>Letter: SPRING GROVE S...  \n",
       "1  <p>Letter: TO CHARLES BAXTER</p>\\n<p><br></p>\\...  \n",
       "2  <p>Letter: TO MRS. THOMAS STEVENSON</p>\\n<p><b...  \n",
       "3  <p>Letter: TO MRS. THOMAS STEVENSON</p>\\n<p><b...  \n",
       "4  <p>Letter: TO MRS. THOMAS STEVENSON</p>\\n<p><b...  "
      ]
     },
     "execution_count": 33,
     "metadata": {},
     "output_type": "execute_result"
    }
   ],
   "source": [
    "df.head()"
   ]
  },
  {
   "cell_type": "code",
   "execution_count": 38,
   "metadata": {},
   "outputs": [],
   "source": [
    "plaintext = html.fromstring(df.letter_text[0]).text_content()"
   ]
  },
  {
   "cell_type": "code",
   "execution_count": 40,
   "metadata": {},
   "outputs": [
    {
     "data": {
      "text/plain": [
       "189"
      ]
     },
     "execution_count": 40,
     "metadata": {},
     "output_type": "execute_result"
    }
   ],
   "source": [
    "len(nltk.tokenize.word_tokenize(plaintext))"
   ]
  },
  {
   "cell_type": "code",
   "execution_count": 45,
   "metadata": {},
   "outputs": [],
   "source": [
    "def get_word_length(text):\n",
    "    plaintext = html.fromstring(text).text_content()\n",
    "    words = nltk.tokenize.word_tokenize(plaintext)\n",
    "    return len(words)"
   ]
  },
  {
   "cell_type": "code",
   "execution_count": 42,
   "metadata": {},
   "outputs": [],
   "source": [
    "def get_character_length(text):\n",
    "    plaintext = html.fromstring(text).text_content()\n",
    "    return len(plaintext)"
   ]
  },
  {
   "cell_type": "code",
   "execution_count": 46,
   "metadata": {},
   "outputs": [],
   "source": [
    "df['word_length'] = df.letter_text.apply(get_word_length)\n",
    "df['character_length'] = df.letter_text.apply(get_character_length)"
   ]
  },
  {
   "cell_type": "code",
   "execution_count": 47,
   "metadata": {},
   "outputs": [
    {
     "data": {
      "text/html": [
       "<div>\n",
       "<style>\n",
       "    .dataframe thead tr:only-child th {\n",
       "        text-align: right;\n",
       "    }\n",
       "\n",
       "    .dataframe thead th {\n",
       "        text-align: left;\n",
       "    }\n",
       "\n",
       "    .dataframe tbody tr th {\n",
       "        vertical-align: top;\n",
       "    }\n",
       "</style>\n",
       "<table border=\"1\" class=\"dataframe\">\n",
       "  <thead>\n",
       "    <tr style=\"text-align: right;\">\n",
       "      <th></th>\n",
       "      <th>addressee</th>\n",
       "      <th>date</th>\n",
       "      <th>Month</th>\n",
       "      <th>DayOfMonth</th>\n",
       "      <th>Year</th>\n",
       "      <th>location</th>\n",
       "      <th>score</th>\n",
       "      <th>magnitude</th>\n",
       "      <th>filename</th>\n",
       "      <th>letter_text</th>\n",
       "      <th>word_length</th>\n",
       "      <th>character_length</th>\n",
       "    </tr>\n",
       "  </thead>\n",
       "  <tbody>\n",
       "    <tr>\n",
       "      <th>0</th>\n",
       "      <td>SPRING GROVE SCHOOL</td>\n",
       "      <td>NOVEMBER 12 1863</td>\n",
       "      <td>NOVEMBER</td>\n",
       "      <td>12.0</td>\n",
       "      <td>1863.0</td>\n",
       "      <td>letters/wikisource_vol1_ch1_letter1.html</td>\n",
       "      <td>-1.2</td>\n",
       "      <td>3.4</td>\n",
       "      <td>wikisource_vol1_ch1_letter1</td>\n",
       "      <td>&lt;div class=\"prose\"&gt;\\n&lt;p&gt;Letter: SPRING GROVE S...</td>\n",
       "      <td>189</td>\n",
       "      <td>893</td>\n",
       "    </tr>\n",
       "    <tr>\n",
       "      <th>1</th>\n",
       "      <td>CHARLES BAXTER</td>\n",
       "      <td>APRIL 9 1872</td>\n",
       "      <td>APRIL</td>\n",
       "      <td>9.0</td>\n",
       "      <td>1872.0</td>\n",
       "      <td>letters/wikisource_vol1_ch1_letter10.html</td>\n",
       "      <td>-0.9</td>\n",
       "      <td>3.9</td>\n",
       "      <td>wikisource_vol1_ch1_letter10</td>\n",
       "      <td>&lt;p&gt;Letter: TO CHARLES BAXTER&lt;/p&gt;\\n&lt;p&gt;&lt;br&gt;&lt;/p&gt;\\...</td>\n",
       "      <td>445</td>\n",
       "      <td>2050</td>\n",
       "    </tr>\n",
       "    <tr>\n",
       "      <th>2</th>\n",
       "      <td>MRS. THOMAS STEVENSON</td>\n",
       "      <td>JULY 25 1872</td>\n",
       "      <td>JULY</td>\n",
       "      <td>25.0</td>\n",
       "      <td>1872.0</td>\n",
       "      <td>letters/wikisource_vol1_ch1_letter11.html</td>\n",
       "      <td>0.9</td>\n",
       "      <td>8.5</td>\n",
       "      <td>wikisource_vol1_ch1_letter11</td>\n",
       "      <td>&lt;p&gt;Letter: TO MRS. THOMAS STEVENSON&lt;/p&gt;\\n&lt;p&gt;&lt;b...</td>\n",
       "      <td>730</td>\n",
       "      <td>3379</td>\n",
       "    </tr>\n",
       "    <tr>\n",
       "      <th>3</th>\n",
       "      <td>MRS. THOMAS STEVENSON</td>\n",
       "      <td>JULY 29 1872</td>\n",
       "      <td>JULY</td>\n",
       "      <td>29.0</td>\n",
       "      <td>1872.0</td>\n",
       "      <td>letters/wikisource_vol1_ch1_letter12.html</td>\n",
       "      <td>0.1</td>\n",
       "      <td>5.1</td>\n",
       "      <td>wikisource_vol1_ch1_letter12</td>\n",
       "      <td>&lt;p&gt;Letter: TO MRS. THOMAS STEVENSON&lt;/p&gt;\\n&lt;p&gt;&lt;b...</td>\n",
       "      <td>430</td>\n",
       "      <td>2056</td>\n",
       "    </tr>\n",
       "    <tr>\n",
       "      <th>4</th>\n",
       "      <td>MRS. THOMAS STEVENSON</td>\n",
       "      <td>AUGUST 2 1872</td>\n",
       "      <td>AUGUST</td>\n",
       "      <td>2.0</td>\n",
       "      <td>1872.0</td>\n",
       "      <td>letters/wikisource_vol1_ch1_letter13.html</td>\n",
       "      <td>-2.6</td>\n",
       "      <td>12.0</td>\n",
       "      <td>wikisource_vol1_ch1_letter13</td>\n",
       "      <td>&lt;p&gt;Letter: TO MRS. THOMAS STEVENSON&lt;/p&gt;\\n&lt;p&gt;&lt;b...</td>\n",
       "      <td>1064</td>\n",
       "      <td>5012</td>\n",
       "    </tr>\n",
       "  </tbody>\n",
       "</table>\n",
       "</div>"
      ],
      "text/plain": [
       "               addressee              date     Month  DayOfMonth    Year  \\\n",
       "0    SPRING GROVE SCHOOL  NOVEMBER 12 1863  NOVEMBER        12.0  1863.0   \n",
       "1         CHARLES BAXTER      APRIL 9 1872     APRIL         9.0  1872.0   \n",
       "2  MRS. THOMAS STEVENSON      JULY 25 1872      JULY        25.0  1872.0   \n",
       "3  MRS. THOMAS STEVENSON      JULY 29 1872      JULY        29.0  1872.0   \n",
       "4  MRS. THOMAS STEVENSON     AUGUST 2 1872    AUGUST         2.0  1872.0   \n",
       "\n",
       "                                    location  score  magnitude  \\\n",
       "0   letters/wikisource_vol1_ch1_letter1.html   -1.2        3.4   \n",
       "1  letters/wikisource_vol1_ch1_letter10.html   -0.9        3.9   \n",
       "2  letters/wikisource_vol1_ch1_letter11.html    0.9        8.5   \n",
       "3  letters/wikisource_vol1_ch1_letter12.html    0.1        5.1   \n",
       "4  letters/wikisource_vol1_ch1_letter13.html   -2.6       12.0   \n",
       "\n",
       "                       filename  \\\n",
       "0   wikisource_vol1_ch1_letter1   \n",
       "1  wikisource_vol1_ch1_letter10   \n",
       "2  wikisource_vol1_ch1_letter11   \n",
       "3  wikisource_vol1_ch1_letter12   \n",
       "4  wikisource_vol1_ch1_letter13   \n",
       "\n",
       "                                         letter_text  word_length  \\\n",
       "0  <div class=\"prose\">\\n<p>Letter: SPRING GROVE S...          189   \n",
       "1  <p>Letter: TO CHARLES BAXTER</p>\\n<p><br></p>\\...          445   \n",
       "2  <p>Letter: TO MRS. THOMAS STEVENSON</p>\\n<p><b...          730   \n",
       "3  <p>Letter: TO MRS. THOMAS STEVENSON</p>\\n<p><b...          430   \n",
       "4  <p>Letter: TO MRS. THOMAS STEVENSON</p>\\n<p><b...         1064   \n",
       "\n",
       "   character_length  \n",
       "0               893  \n",
       "1              2050  \n",
       "2              3379  \n",
       "3              2056  \n",
       "4              5012  "
      ]
     },
     "execution_count": 47,
     "metadata": {},
     "output_type": "execute_result"
    }
   ],
   "source": [
    "df.head()"
   ]
  },
  {
   "cell_type": "code",
   "execution_count": 48,
   "metadata": {},
   "outputs": [],
   "source": [
    "df['avg_word_length'] = df.character_length / df.word_length"
   ]
  },
  {
   "cell_type": "code",
   "execution_count": 49,
   "metadata": {},
   "outputs": [
    {
     "data": {
      "text/html": [
       "<div>\n",
       "<style>\n",
       "    .dataframe thead tr:only-child th {\n",
       "        text-align: right;\n",
       "    }\n",
       "\n",
       "    .dataframe thead th {\n",
       "        text-align: left;\n",
       "    }\n",
       "\n",
       "    .dataframe tbody tr th {\n",
       "        vertical-align: top;\n",
       "    }\n",
       "</style>\n",
       "<table border=\"1\" class=\"dataframe\">\n",
       "  <thead>\n",
       "    <tr style=\"text-align: right;\">\n",
       "      <th></th>\n",
       "      <th>addressee</th>\n",
       "      <th>date</th>\n",
       "      <th>Month</th>\n",
       "      <th>DayOfMonth</th>\n",
       "      <th>Year</th>\n",
       "      <th>location</th>\n",
       "      <th>score</th>\n",
       "      <th>magnitude</th>\n",
       "      <th>filename</th>\n",
       "      <th>letter_text</th>\n",
       "      <th>word_length</th>\n",
       "      <th>character_length</th>\n",
       "      <th>avg_word_length</th>\n",
       "    </tr>\n",
       "  </thead>\n",
       "  <tbody>\n",
       "    <tr>\n",
       "      <th>0</th>\n",
       "      <td>SPRING GROVE SCHOOL</td>\n",
       "      <td>NOVEMBER 12 1863</td>\n",
       "      <td>NOVEMBER</td>\n",
       "      <td>12.0</td>\n",
       "      <td>1863.0</td>\n",
       "      <td>letters/wikisource_vol1_ch1_letter1.html</td>\n",
       "      <td>-1.2</td>\n",
       "      <td>3.4</td>\n",
       "      <td>wikisource_vol1_ch1_letter1</td>\n",
       "      <td>&lt;div class=\"prose\"&gt;\\n&lt;p&gt;Letter: SPRING GROVE S...</td>\n",
       "      <td>189</td>\n",
       "      <td>893</td>\n",
       "      <td>4.724868</td>\n",
       "    </tr>\n",
       "    <tr>\n",
       "      <th>1</th>\n",
       "      <td>CHARLES BAXTER</td>\n",
       "      <td>APRIL 9 1872</td>\n",
       "      <td>APRIL</td>\n",
       "      <td>9.0</td>\n",
       "      <td>1872.0</td>\n",
       "      <td>letters/wikisource_vol1_ch1_letter10.html</td>\n",
       "      <td>-0.9</td>\n",
       "      <td>3.9</td>\n",
       "      <td>wikisource_vol1_ch1_letter10</td>\n",
       "      <td>&lt;p&gt;Letter: TO CHARLES BAXTER&lt;/p&gt;\\n&lt;p&gt;&lt;br&gt;&lt;/p&gt;\\...</td>\n",
       "      <td>445</td>\n",
       "      <td>2050</td>\n",
       "      <td>4.606742</td>\n",
       "    </tr>\n",
       "    <tr>\n",
       "      <th>2</th>\n",
       "      <td>MRS. THOMAS STEVENSON</td>\n",
       "      <td>JULY 25 1872</td>\n",
       "      <td>JULY</td>\n",
       "      <td>25.0</td>\n",
       "      <td>1872.0</td>\n",
       "      <td>letters/wikisource_vol1_ch1_letter11.html</td>\n",
       "      <td>0.9</td>\n",
       "      <td>8.5</td>\n",
       "      <td>wikisource_vol1_ch1_letter11</td>\n",
       "      <td>&lt;p&gt;Letter: TO MRS. THOMAS STEVENSON&lt;/p&gt;\\n&lt;p&gt;&lt;b...</td>\n",
       "      <td>730</td>\n",
       "      <td>3379</td>\n",
       "      <td>4.628767</td>\n",
       "    </tr>\n",
       "    <tr>\n",
       "      <th>3</th>\n",
       "      <td>MRS. THOMAS STEVENSON</td>\n",
       "      <td>JULY 29 1872</td>\n",
       "      <td>JULY</td>\n",
       "      <td>29.0</td>\n",
       "      <td>1872.0</td>\n",
       "      <td>letters/wikisource_vol1_ch1_letter12.html</td>\n",
       "      <td>0.1</td>\n",
       "      <td>5.1</td>\n",
       "      <td>wikisource_vol1_ch1_letter12</td>\n",
       "      <td>&lt;p&gt;Letter: TO MRS. THOMAS STEVENSON&lt;/p&gt;\\n&lt;p&gt;&lt;b...</td>\n",
       "      <td>430</td>\n",
       "      <td>2056</td>\n",
       "      <td>4.781395</td>\n",
       "    </tr>\n",
       "    <tr>\n",
       "      <th>4</th>\n",
       "      <td>MRS. THOMAS STEVENSON</td>\n",
       "      <td>AUGUST 2 1872</td>\n",
       "      <td>AUGUST</td>\n",
       "      <td>2.0</td>\n",
       "      <td>1872.0</td>\n",
       "      <td>letters/wikisource_vol1_ch1_letter13.html</td>\n",
       "      <td>-2.6</td>\n",
       "      <td>12.0</td>\n",
       "      <td>wikisource_vol1_ch1_letter13</td>\n",
       "      <td>&lt;p&gt;Letter: TO MRS. THOMAS STEVENSON&lt;/p&gt;\\n&lt;p&gt;&lt;b...</td>\n",
       "      <td>1064</td>\n",
       "      <td>5012</td>\n",
       "      <td>4.710526</td>\n",
       "    </tr>\n",
       "  </tbody>\n",
       "</table>\n",
       "</div>"
      ],
      "text/plain": [
       "               addressee              date     Month  DayOfMonth    Year  \\\n",
       "0    SPRING GROVE SCHOOL  NOVEMBER 12 1863  NOVEMBER        12.0  1863.0   \n",
       "1         CHARLES BAXTER      APRIL 9 1872     APRIL         9.0  1872.0   \n",
       "2  MRS. THOMAS STEVENSON      JULY 25 1872      JULY        25.0  1872.0   \n",
       "3  MRS. THOMAS STEVENSON      JULY 29 1872      JULY        29.0  1872.0   \n",
       "4  MRS. THOMAS STEVENSON     AUGUST 2 1872    AUGUST         2.0  1872.0   \n",
       "\n",
       "                                    location  score  magnitude  \\\n",
       "0   letters/wikisource_vol1_ch1_letter1.html   -1.2        3.4   \n",
       "1  letters/wikisource_vol1_ch1_letter10.html   -0.9        3.9   \n",
       "2  letters/wikisource_vol1_ch1_letter11.html    0.9        8.5   \n",
       "3  letters/wikisource_vol1_ch1_letter12.html    0.1        5.1   \n",
       "4  letters/wikisource_vol1_ch1_letter13.html   -2.6       12.0   \n",
       "\n",
       "                       filename  \\\n",
       "0   wikisource_vol1_ch1_letter1   \n",
       "1  wikisource_vol1_ch1_letter10   \n",
       "2  wikisource_vol1_ch1_letter11   \n",
       "3  wikisource_vol1_ch1_letter12   \n",
       "4  wikisource_vol1_ch1_letter13   \n",
       "\n",
       "                                         letter_text  word_length  \\\n",
       "0  <div class=\"prose\">\\n<p>Letter: SPRING GROVE S...          189   \n",
       "1  <p>Letter: TO CHARLES BAXTER</p>\\n<p><br></p>\\...          445   \n",
       "2  <p>Letter: TO MRS. THOMAS STEVENSON</p>\\n<p><b...          730   \n",
       "3  <p>Letter: TO MRS. THOMAS STEVENSON</p>\\n<p><b...          430   \n",
       "4  <p>Letter: TO MRS. THOMAS STEVENSON</p>\\n<p><b...         1064   \n",
       "\n",
       "   character_length  avg_word_length  \n",
       "0               893         4.724868  \n",
       "1              2050         4.606742  \n",
       "2              3379         4.628767  \n",
       "3              2056         4.781395  \n",
       "4              5012         4.710526  "
      ]
     },
     "execution_count": 49,
     "metadata": {},
     "output_type": "execute_result"
    }
   ],
   "source": [
    "df.head()"
   ]
  },
  {
   "cell_type": "code",
   "execution_count": 50,
   "metadata": {},
   "outputs": [
    {
     "data": {
      "text/plain": [
       "Index(['addressee', 'date', 'Month', 'DayOfMonth', 'Year', 'location', 'score',\n",
       "       'magnitude', 'filename', 'letter_text', 'word_length',\n",
       "       'character_length', 'avg_word_length'],\n",
       "      dtype='object')"
      ]
     },
     "execution_count": 50,
     "metadata": {},
     "output_type": "execute_result"
    }
   ],
   "source": [
    "df.columns"
   ]
  },
  {
   "cell_type": "code",
   "execution_count": 51,
   "metadata": {
    "collapsed": true
   },
   "outputs": [],
   "source": [
    "df.to_csv('letters_data_clean_with_sentiment.csv',index=None)"
   ]
  }
 ],
 "metadata": {
  "kernelspec": {
   "display_name": "Python 3",
   "language": "python",
   "name": "python3"
  },
  "language_info": {
   "codemirror_mode": {
    "name": "ipython",
    "version": 3
   },
   "file_extension": ".py",
   "mimetype": "text/x-python",
   "name": "python",
   "nbconvert_exporter": "python",
   "pygments_lexer": "ipython3",
   "version": "3.6.1"
  }
 },
 "nbformat": 4,
 "nbformat_minor": 2
}
