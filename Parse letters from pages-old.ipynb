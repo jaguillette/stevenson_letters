{
 "cells": [
  {
   "cell_type": "markdown",
   "metadata": {},
   "source": [
    "# Getting Our Data\n",
    "\n",
    "## This Notebook\n",
    "\n",
    "In this session, we will be acquiring the letters that we will use over the course of this workshop. We will be using the letters of Robert Louis Stevenson, made available through Wikisource in two volumes ([Vol 1](https://en.wikisource.org/wiki/The_Letters_of_Robert_Louis_Stevenson_Volume_1) & [Vol 2](https://en.wikisource.org/wiki/The_Letters_of_Robert_Louis_Stevenson_Volume_2)). In this case, since there are only twelve pages that we need to download, we can just download the pages manually by saving each page in our browsers. At larger scales, you may consider using a command line utility like wget (for which there is a [tutorial on The Programming Historian](https://programminghistorian.org/lessons/automated-downloading-with-wget)), or with some additional Python (which also has a tutorial on [The Programming Historian](https://programminghistorian.org/lessons/downloading-multiple-records-using-query-strings))\n",
    "\n",
    "In this tutorial, we are using a [Jupyter Notebook](http://jupyter.org/), which is a tool for interactive programming with the Python programming language. The notebook consists of a series of \"cells\". Some, like this one, are for taking notes. We call those \"Markdown cells\", because they use the [Markdown](https://daringfireball.net/projects/markdown/syntax) syntax. We also have code cells, where we can execute Python code and see the results.\n",
    "\n",
    "Even if you've never seen Python code before, this session should help you form expectations for what you can do with HTML documents in Python. If you have worked with Python before, or you're interested in learning, you can use this code as an example for your own projects. Since this isn't a \"Learn Python\" workshop, there will be a lot of things that we'll gloss over in the interest of time, but if you're interested in learning Python, I'd recommend saving it and coming back to it in between tutorials to see how much of it you understand.\n",
    "\n",
    "While we're going through this tutorial, take advantage of this interactive environment to modify pieces of code, so that you can see if the results are what you expect. Most of programming is learning how to align your expectations with what the code does, and much of that learning process can be done through experimentation.\n",
    "\n",
    "## Our Data\n",
    "\n",
    "Before we look at any code, however, let's look at what it is that we actually want to do. The goal is to transform pages on Wikisource that contain many letters into a series of documents, each containing a single letter.\n",
    "\n",
    "Take a look at a single page ([Volume 1, Chapter 1](https://en.wikisource.org/wiki/The_Letters_of_Robert_Louis_Stevenson_Volume_1/Chapter_I) for example), and see what kind of useful patterns we might have to work with. Once we have an idea of what we want to do conceptually, we can put that into practice with Python code."
   ]
  },
  {
   "cell_type": "code",
   "execution_count": 1,
   "metadata": {
    "collapsed": true
   },
   "outputs": [],
   "source": [
    "import os\n",
    "import re\n",
    "from lxml import html"
   ]
  },
  {
   "cell_type": "markdown",
   "metadata": {},
   "source": [
    "## $\\uparrow$ Importing Modules\n",
    "\n",
    "One of the many joys of Python is that you almost never have to start entirely from scratch. Python is built to be extensible, and there are not only many modules to give you different kinds of functionality, but there is a robust infrastructure to acquire them.\n",
    "\n",
    "If your this notebook is our data workbench, then the modules that we import are the specialized tools that we bring to our specific project. Python comes with basic tools, so you can always count on your screwdrivers and hammers, but sometimes you need some more specialized tools, so you `import` them to keep those specialized tools close at hand.\n",
    "\n",
    "For now, we're importing three tools to work with:\n",
    "\n",
    "|Command|Module Imported|Description|\n",
    "|-------|------|:----------|\n",
    "|`import os`|`os`|Module for interacting with the computer's file system. Useful for getting file locations and iterating through folders of files|\n",
    "|`import re`|`re`|Module for using Regular Expressions, a language for making search and replace functions that are more flexible than you may be used to|\n",
    "|`from lxml import html`|`html`|This command is different because we're not importing an entire module, we're importing a sub-module. `lxml` is a module for interacting with XML and XML-like documents, and `html` is a sub-module specifically for working with HTML documents|"
   ]
  },
  {
   "cell_type": "code",
   "execution_count": 2,
   "metadata": {},
   "outputs": [
    {
     "data": {
      "text/plain": [
       "<lxml.etree._ElementTree at 0x108464108>"
      ]
     },
     "execution_count": 2,
     "metadata": {},
     "output_type": "execute_result"
    }
   ],
   "source": [
    "ch1 = html.parse(\"wikisource/wikisource_vol1_ch1.htm\")\n",
    "ch1"
   ]
  },
  {
   "cell_type": "markdown",
   "metadata": {},
   "source": [
    "----\n",
    "\n",
    "$\\uparrow$ We're doing a few things in that first line of code, so here's a breakdown:\n",
    "\n",
    "ch1$^1$ = $^2$html$^3$.$^4$parse$^5$($^6$\"wikisource/wikisource_vol1_ch1.htm\"$^7$)$^8$\n",
    "\n",
    "1. We are creating a variable, and calling it \"ch1\"\n",
    "2. This single equals sign is what we use to assign a variable name to whatever is to its right\n",
    "3. Here we are using the \"html\" module that we imported in the previous cell\n",
    "4. This single period or \"dot\" is used to access attributes of an object, so what follows is an attribute of \"html\"\n",
    "5. This is a function attribute of html called \"parse\"\n",
    "6. This is parenthesis indicates that the word before it is a function. Within the parentheses are the arguments of the function\n",
    "7. This is the only argument we are giving to the function, the relative location of an html document. It is represented as a \"string\", which is what you call an object that you want to work with as text (in contrast to other data types, like numbers and lists). This is the page for Volume 1, Chapter 1 of the collection of letters, which you can see [here](https://en.wikisource.org/wiki/The_Letters_of_Robert_Louis_Stevenson_Volume_1/Chapter_I)\n",
    "8. This parenthesis closes out the function arguments.\n",
    "\n",
    "The second line is just calling up the object we've just created, so that we can see what it is. Some objects will output a nice, readable form of their contents when you call them in this way. In this case, what we get is a kind of gnarly looking line that just tells us what kind of thing it is (an \"ElementTree\")\n",
    "\n",
    "----"
   ]
  },
  {
   "cell_type": "code",
   "execution_count": 3,
   "metadata": {},
   "outputs": [
    {
     "name": "stdout",
     "output_type": "stream",
     "text": [
      "<!DOCTYPE html>\n",
      "<!-- saved from url=(0087)https://en.wikisource.org/wiki/The_Letters_of_Robert_Louis_Stevenson_Volume_1/Chapter_I --><html class=\"client-js ve-not-available\" lang=\"en\" dir=\"ltr\"><head>\n",
      "\n",
      "<title>The Letters of Robert Louis Stevenson Volume 1/Chapter I - Wikisource, the free online library</title>\n",
      "<script>document.documentElement.className = document.documentElement.className.replace( /(^|\\s)client-nojs(\\s|$)/, \"$1client-js$2\" );</script>\n",
      "<script>(window.RLQ=window.RLQ||[]).push(function(){mw.config.set({\"wgCanonicalNamespace\":\"\",\"wgCanonicalSpecialPageName\":false,\"wgNamespaceNumber\":0,\"wgPageName\":\"The_Letters_of_Robert_Louis_Stevenson_Volume_1/Chapter_I\",\"wgTitle\":\"The Letters of Robert Louis Stevenson Volume 1/Chapter I\",\"wgCurRevisionId\":3751843,\"wgRevisionId\":3751843,\"wgArticleId\":39652,\"wgIsArticle\":true,\"wgIsRedirect\":false,\"wgAction\":\"view\",\"wgUserName\":null,\"wgUserGroups\":[\"*\"],\"wgCategories\":[\"Subpages\"],\"wgBreakFrames\":false,\"wgPageContentLanguage\":\"en\",\"wgPageC\n"
     ]
    }
   ],
   "source": [
    "print(html.tostring(ch1,encoding=\"unicode\")[:1000])"
   ]
  },
  {
   "cell_type": "markdown",
   "metadata": {},
   "source": [
    "----\n",
    "\n",
    "$\\uparrow$ This is another look at what we've just made. We're using two different functions to get it, but don't worry about the syntax (unless you're really curious) and just know that this is the top of the document represented by `ch1`\n",
    "\n",
    "----"
   ]
  },
  {
   "cell_type": "code",
   "execution_count": 4,
   "metadata": {},
   "outputs": [
    {
     "data": {
      "text/plain": [
       "<Element div at 0x108565048>"
      ]
     },
     "execution_count": 4,
     "metadata": {},
     "output_type": "execute_result"
    }
   ],
   "source": [
    "text = ch1.xpath(\"//div[@class='prose']\")[0]\n",
    "text"
   ]
  },
  {
   "cell_type": "markdown",
   "metadata": {},
   "source": [
    "----\n",
    "\n",
    "$\\uparrow$ In this cell, we're using an XPath selector to get a narrower selection of the document. Instead of the whole document, with the Wikipedia header and sidebars and everything, we want just the central block with the text. The XPath selector that we're using as an argument does just that; it selects \"`div`\" elements with the class \"prose\". If you go to the [Wikisource page](https://en.wikisource.org/wiki/The_Letters_of_Robert_Louis_Stevenson_Volume_1/Chapter_I), right click on the text and click \"Inspect\", you'll be able to use your browser's developer tools to confirm this for yourself.\n",
    "\n",
    "We're using a similar syntax to what we used in the previous cell. We're creating an object, this time based on the `ch1` object, and using the `xpath` function to do so. One difference in the syntax is at the end of the line, where we have `[0]`. When you see those square brackets after some object, it indicates that we're accessing some part of it. Here, we're accessing the first value that the `xpath` function returns (since Python, like many other programming languages, starts counting from 0, not 1)\n",
    "\n",
    "----"
   ]
  },
  {
   "cell_type": "code",
   "execution_count": 5,
   "metadata": {},
   "outputs": [
    {
     "name": "stdout",
     "output_type": "stream",
     "text": [
      "<div class=\"prose\">\n",
      "<p>Letter: SPRING GROVE SCHOOL, 12TH NOVEMBER 1863.</p>\n",
      "<p><br></p>\n",
      "<p>MA CHERE MAMAN, - Jai recu votre lettre Aujourdhui et comme le jour prochaine est mon jour de naisance je vous ecrit ce lettre. Ma grande gatteaux est arrive il leve 12 livres et demi le prix etait 17 shillings. Sur la soiree de Monseigneur Faux il y etait quelques belles feux d'artifice. Mais les polissons entrent dans notre champ et nos feux d'artifice et handkerchiefs disappeared quickly, but we charged them out of the field. Je suis presque driven mad par une bruit terrible tous les garcons kik up comme grand un bruit qu'll est possible. I hope you will find your house at Mentone nice. I have been obliged to stop from writing by the want of a pen, but now I have one, so I will continue.</p>\n",
      "<p>My dear papa, you told me to tell you whenever I was miserable. I do not feel well, and I wish to get home.</p>\n",
      "<p>Do take me with you.</p>\n",
      "<p>R. STEVENSON.</p>\n",
      "<hr>\n",
      "<p>Letter: 2 SULYARDE TERRACE, TORQUAY, THURSDAY (APRIL 1866).</p>\n",
      "<p><br></p>\n",
      "<p>RESPECTED PATERNAL RELATIVE, - I write to make a request of the most moderate nature. Every year I have cost you an enormous - nay, elephantine - sum of m\n"
     ]
    }
   ],
   "source": [
    "texthtml = html.tostring(text,encoding=\"unicode\")\n",
    "print(texthtml[:1200])"
   ]
  },
  {
   "cell_type": "markdown",
   "metadata": {},
   "source": [
    "----\n",
    "\n",
    "$\\uparrow$ Here we're transforming our text from an \"ElementTree\" object to a much simpler data structure, a \"string\". Strings in Python are data objects that are treated as text, as opposed to numbers or code.\n",
    "\n",
    "Now we have something quite useful. We have the text of all of the letters in a format that is very easy for Python to work with. This is the first part of breaking the longer text containing all of the letters into smaller chunks containing a single letter.\n",
    "\n",
    "_Side note: We're also only displaying the first 1200 characters of text with the `[:1200]` addendum, so as not to take up too much space. Try out displaying more or less of the text by changing the number in the brackets._\n",
    "\n",
    "----"
   ]
  },
  {
   "cell_type": "code",
   "execution_count": 6,
   "metadata": {},
   "outputs": [
    {
     "data": {
      "text/plain": [
       "['Hello', ' goodbye']"
      ]
     },
     "execution_count": 6,
     "metadata": {},
     "output_type": "execute_result"
    }
   ],
   "source": [
    "\"Hello, goodbye\".split(\",\")"
   ]
  },
  {
   "cell_type": "markdown",
   "metadata": {},
   "source": [
    "----\n",
    "\n",
    "$\\uparrow$ Here's a simplified example of what we want to do with our text. Since we've determined that we want to break up the document using those horizontal lines as breakpoints, we need a Python function to do just that.\n",
    "\n",
    "What we have here is a string, `\"Hello, goodbye\"`, that we're using the \"`split`\" function attribute of to split on a comma: `\",\"`.\n",
    "\n",
    "In the output we see `['Hello', ' goodbye']`. The square brackets indicate that this is a `list` data type, which in Python is an ordered collection of objects. The bits of text in single quotes are `string`s, and they are separated by commas outside of the quotes, which tells us that they are separate items in this `list`.\n",
    "\n",
    "_Try changing the first string and the argument given to `split`, to see how you can use the function in different ways and in different contexts_\n",
    "\n",
    "----"
   ]
  },
  {
   "cell_type": "code",
   "execution_count": 7,
   "metadata": {},
   "outputs": [
    {
     "name": "stdout",
     "output_type": "stream",
     "text": [
      "<div class=\"prose\">\n",
      "<p>Letter: SPRING GROVE SCHOOL, 12TH NOVEMBER 1863.</p>\n",
      "<p><br></p>\n",
      "<p>MA CHERE MAMAN, - Jai recu votre lettre Aujourdhui et comme le jour prochaine est mon jour de naisance je vous ecrit ce lettre. Ma grande gatteaux est arrive il leve 12 livres et demi le prix etait 17 shillings. Sur la soiree de Monseigneur Faux il y etait quelques belles feux d'artifice. Mais les polissons entrent dans notre champ et nos feux d'artifice et handkerchiefs disappeared quickly, but we charged them out of the field. Je suis presque driven mad par une bruit terrible tous les garcons kik up comme grand un bruit qu'll est possible. I hope you will find your house at Mentone nice. I have been obliged to stop from writing by the want of a pen, but now I have one, so I will continue.</p>\n",
      "<p>My dear papa, you told me to tell you whenever I was miserable. I do not feel well, and I wish to get home.</p>\n",
      "<p>Do take me with you.</p>\n",
      "<p>R. STEVENSON.</p>\n",
      "\n"
     ]
    }
   ],
   "source": [
    "letters = texthtml.split(\"<hr>\")\n",
    "print(letters[0])"
   ]
  },
  {
   "cell_type": "markdown",
   "metadata": {},
   "source": [
    "----\n",
    "\n",
    "$\\uparrow$ We're using that same function on our larger document, but instead of breaking it up by commas, we're using `\"<hr>\"`, the HTML notation for those horizontal lines that separate letters. Then we're using the `print` function to display the first letter from that set of letters\n",
    "\n",
    "----"
   ]
  },
  {
   "cell_type": "code",
   "execution_count": 8,
   "metadata": {},
   "outputs": [
    {
     "data": {
      "text/plain": [
       "16"
      ]
     },
     "execution_count": 8,
     "metadata": {},
     "output_type": "execute_result"
    }
   ],
   "source": [
    "# len gets us the number of objects in a list or list-like object, \n",
    "# so this is the number of letters that we've just parsed out\n",
    "len(letters)"
   ]
  },
  {
   "cell_type": "code",
   "execution_count": 9,
   "metadata": {
    "collapsed": true
   },
   "outputs": [],
   "source": [
    "counter = 1\n",
    "# sets up a counter variable.\n",
    "for l in letters:\n",
    "    filename = \"letters/wikisource_vol1_ch1_letter\" + str(counter) + \".html\"\n",
    "    # sets up the filename, using a consistent folder and beginning for the file names, \n",
    "    # but adding in the number from the counter we've set up\n",
    "    with open(filename, \"w\") as fp:\n",
    "    # opens a file with the filename that we set up, and sets it up for writing as an object called fp\n",
    "        fp.write(l)\n",
    "        # writes the contents of our letter to the file that we've opened\n",
    "    counter += 1\n",
    "    # increments the counter for the next iteration of the loop."
   ]
  },
  {
   "cell_type": "markdown",
   "metadata": {},
   "source": [
    "----\n",
    "\n",
    "$\\uparrow$ In this cell, we're doing some iteration. The syntax of `for l in letters:` begins a __loop__ that performs the indented actions on every object in `letters`, with \"`l`\" as the stand-in for the individual objects.\n",
    "\n",
    "_We are setting up a new variable called `filename`, but it's getting re-written in every iteration of the loop. You can always re-use the same name for a variable elsewhere in a Python script, it will just overwrite the old one. The new value doesn't even have to be the same kind of object, Python just puts that label on the new object._\n",
    "\n",
    "----"
   ]
  },
  {
   "cell_type": "code",
   "execution_count": 10,
   "metadata": {
    "scrolled": true
   },
   "outputs": [
    {
     "data": {
      "text/plain": [
       "['wikisource_vol1_ch1_letter1.html',\n",
       " 'wikisource_vol1_ch1_letter10.html',\n",
       " 'wikisource_vol1_ch1_letter11.html',\n",
       " 'wikisource_vol1_ch1_letter12.html',\n",
       " 'wikisource_vol1_ch1_letter13.html',\n",
       " 'wikisource_vol1_ch1_letter14.html',\n",
       " 'wikisource_vol1_ch1_letter15.html',\n",
       " 'wikisource_vol1_ch1_letter16.html',\n",
       " 'wikisource_vol1_ch1_letter2.html',\n",
       " 'wikisource_vol1_ch1_letter3.html',\n",
       " 'wikisource_vol1_ch1_letter4.html',\n",
       " 'wikisource_vol1_ch1_letter5.html',\n",
       " 'wikisource_vol1_ch1_letter6.html',\n",
       " 'wikisource_vol1_ch1_letter7.html',\n",
       " 'wikisource_vol1_ch1_letter8.html',\n",
       " 'wikisource_vol1_ch1_letter9.html']"
      ]
     },
     "execution_count": 10,
     "metadata": {},
     "output_type": "execute_result"
    }
   ],
   "source": [
    "os.listdir(\"letters\")"
   ]
  },
  {
   "cell_type": "markdown",
   "metadata": {},
   "source": [
    "----\n",
    "\n",
    "$\\uparrow$ This is one of the handiest functions in the `os` module. `os.listdir()` returns a list of whatever is in the directory given to it as an argument. Here we can see all of the files that we've just created.\n",
    "\n",
    "----"
   ]
  },
  {
   "cell_type": "code",
   "execution_count": 11,
   "metadata": {
    "collapsed": true
   },
   "outputs": [],
   "source": [
    "def get_letters(location):\n",
    "    # define a function that always takes a single argument, which we'll call location throughout the function\n",
    "    tree = html.parse(location)\n",
    "    # Parse the HTML of the document at the location given\n",
    "    text_element = tree.xpath(\"//div[@class='prose']\")[0]\n",
    "    # Get the contents of the document that we're interested in with XPath\n",
    "    text_with_html = html.tostring(text_element,encoding=\"unicode\")\n",
    "    # Convert that text to a string so it's easy to work with\n",
    "    letters = text_with_html.split(\"<hr>\")\n",
    "    # Break the document into sections, separated by horizontal lines\n",
    "    base_location = location.split('/')[-1]\n",
    "    # Set up a base filename based on the location given\n",
    "    # e.g. \"wikisource_vol1_ch1.htm\"\n",
    "    base_location = base_location.replace('.htm','')\n",
    "    # Remove the \".htm\" file extension from the base location\n",
    "    counter = 1\n",
    "    # Set up our counter\n",
    "    for l in letters:\n",
    "        # Begin iterating through letters\n",
    "        new_location = \"letters/\" + base_location + \"_letter\" + str(counter) + \".html\"\n",
    "        # Set up the location where we'll save our new files\n",
    "        with open(new_location, \"w\") as fp:\n",
    "            # Open a file at that location for writing\n",
    "            fp.write(l)\n",
    "            # Write letter contents to the file\n",
    "        counter += 1\n",
    "        # Increment the counter\n",
    "    return \"Done!\"\n",
    "    # You don't have to, but it's customary to return something at the end of a function.\n",
    "    # In our case, the function's purpose isn't to transform an object, it's to write objects to files\n",
    "    # However, you can use \"return\" to have the function spit out a new object based on its input"
   ]
  },
  {
   "cell_type": "markdown",
   "metadata": {},
   "source": [
    "----\n",
    "\n",
    "$\\uparrow$ Now we're preparing to scale up this operation with a function of our own. In this cell we're defining a new function that pulls together all of the steps of the previous cells, so that we can more easily parse additional files.\n",
    "\n",
    "This process is common in using Python as a research tool. First, you figure out the process to do something once, then you make it easier to do perform that process repeatedly, and gradually scale up the complexity of your project. One of the benefits of using a notebook like this as a coding environment is that you can preserve the process that you went through to develop the function, as well as the function itself.\n",
    "\n",
    "----"
   ]
  },
  {
   "cell_type": "code",
   "execution_count": 12,
   "metadata": {},
   "outputs": [
    {
     "data": {
      "text/plain": [
       "'Done!'"
      ]
     },
     "execution_count": 12,
     "metadata": {},
     "output_type": "execute_result"
    }
   ],
   "source": [
    "# let's try out our new function on the next chapter:\n",
    "get_letters(\"wikisource/wikisource_vol1_ch2.htm\")"
   ]
  },
  {
   "cell_type": "code",
   "execution_count": 13,
   "metadata": {
    "scrolled": true
   },
   "outputs": [
    {
     "data": {
      "text/plain": [
       "['wikisource_vol1_ch1_letter1.html',\n",
       " 'wikisource_vol1_ch1_letter10.html',\n",
       " 'wikisource_vol1_ch1_letter11.html',\n",
       " 'wikisource_vol1_ch1_letter12.html',\n",
       " 'wikisource_vol1_ch1_letter13.html',\n",
       " 'wikisource_vol1_ch1_letter14.html',\n",
       " 'wikisource_vol1_ch1_letter15.html',\n",
       " 'wikisource_vol1_ch1_letter16.html',\n",
       " 'wikisource_vol1_ch1_letter2.html',\n",
       " 'wikisource_vol1_ch1_letter3.html',\n",
       " 'wikisource_vol1_ch1_letter4.html',\n",
       " 'wikisource_vol1_ch1_letter5.html',\n",
       " 'wikisource_vol1_ch1_letter6.html',\n",
       " 'wikisource_vol1_ch1_letter7.html',\n",
       " 'wikisource_vol1_ch1_letter8.html',\n",
       " 'wikisource_vol1_ch1_letter9.html',\n",
       " 'wikisource_vol1_ch2_letter1.html',\n",
       " 'wikisource_vol1_ch2_letter10.html',\n",
       " 'wikisource_vol1_ch2_letter11.html',\n",
       " 'wikisource_vol1_ch2_letter12.html',\n",
       " 'wikisource_vol1_ch2_letter13.html',\n",
       " 'wikisource_vol1_ch2_letter14.html',\n",
       " 'wikisource_vol1_ch2_letter15.html',\n",
       " 'wikisource_vol1_ch2_letter16.html',\n",
       " 'wikisource_vol1_ch2_letter17.html',\n",
       " 'wikisource_vol1_ch2_letter18.html',\n",
       " 'wikisource_vol1_ch2_letter19.html',\n",
       " 'wikisource_vol1_ch2_letter2.html',\n",
       " 'wikisource_vol1_ch2_letter20.html',\n",
       " 'wikisource_vol1_ch2_letter21.html',\n",
       " 'wikisource_vol1_ch2_letter22.html',\n",
       " 'wikisource_vol1_ch2_letter23.html',\n",
       " 'wikisource_vol1_ch2_letter24.html',\n",
       " 'wikisource_vol1_ch2_letter25.html',\n",
       " 'wikisource_vol1_ch2_letter26.html',\n",
       " 'wikisource_vol1_ch2_letter27.html',\n",
       " 'wikisource_vol1_ch2_letter3.html',\n",
       " 'wikisource_vol1_ch2_letter4.html',\n",
       " 'wikisource_vol1_ch2_letter5.html',\n",
       " 'wikisource_vol1_ch2_letter6.html',\n",
       " 'wikisource_vol1_ch2_letter7.html',\n",
       " 'wikisource_vol1_ch2_letter8.html',\n",
       " 'wikisource_vol1_ch2_letter9.html']"
      ]
     },
     "execution_count": 13,
     "metadata": {},
     "output_type": "execute_result"
    }
   ],
   "source": [
    "# And now let's see what our function has done...\n",
    "os.listdir('letters')"
   ]
  },
  {
   "cell_type": "code",
   "execution_count": 14,
   "metadata": {},
   "outputs": [
    {
     "data": {
      "text/plain": [
       "['Icon\\r',\n",
       " 'wikisource_vol1_ch1.htm',\n",
       " 'wikisource_vol1_ch1_files',\n",
       " 'wikisource_vol1_ch2.htm',\n",
       " 'wikisource_vol1_ch2_files',\n",
       " 'wikisource_vol1_ch3.htm',\n",
       " 'wikisource_vol1_ch3_files',\n",
       " 'wikisource_vol1_ch4.htm',\n",
       " 'wikisource_vol1_ch4_files',\n",
       " 'wikisource_vol1_ch5.htm',\n",
       " 'wikisource_vol1_ch5_files',\n",
       " 'wikisource_vol1_ch6.htm',\n",
       " 'wikisource_vol1_ch6_files',\n",
       " 'wikisource_vol1_ch7.htm',\n",
       " 'wikisource_vol1_ch7_files',\n",
       " 'wikisource_vol2_ch10.htm',\n",
       " 'wikisource_vol2_ch10_files',\n",
       " 'wikisource_vol2_ch11.htm',\n",
       " 'wikisource_vol2_ch11_files',\n",
       " 'wikisource_vol2_ch12.htm',\n",
       " 'wikisource_vol2_ch12_files',\n",
       " 'wikisource_vol2_ch8.htm',\n",
       " 'wikisource_vol2_ch8_files',\n",
       " 'wikisource_vol2_ch9.htm',\n",
       " 'wikisource_vol2_ch9_files']"
      ]
     },
     "execution_count": 14,
     "metadata": {},
     "output_type": "execute_result"
    }
   ],
   "source": [
    "# Let's see what's in our directory of downloaded files...\n",
    "os.listdir(\"wikisource/\")"
   ]
  },
  {
   "cell_type": "markdown",
   "metadata": {},
   "source": [
    "----\n",
    "\n",
    "As you can see, we have a few isues in that list of files.\n",
    "\n",
    "The first item is an artifact of Google Drive, an icon file. We'll need to get rid of that, but that isn't terribly difficult.\n",
    "\n",
    "A more challenging task is removing all of those directories that end in \"\\_files\". We could just check for that file ending, but let's use another function from `os` instead.\n",
    "\n",
    "----"
   ]
  },
  {
   "cell_type": "code",
   "execution_count": 15,
   "metadata": {},
   "outputs": [
    {
     "data": {
      "text/plain": [
       "False"
      ]
     },
     "execution_count": 15,
     "metadata": {},
     "output_type": "execute_result"
    }
   ],
   "source": [
    "os.path.isfile('wikisource/wikisource_vol_1_ch_1_files/')"
   ]
  },
  {
   "cell_type": "markdown",
   "metadata": {},
   "source": [
    "----\n",
    "\n",
    "$\\uparrow$ This function, `os.path.isfile()`, is a way to check if a given path points to a file, or something else. As you can see, for this path, which points to a folder (which sometimes gets called a directory in programming) the function returns `False`. We can use this function to prune our directory listing to the list of files that we want.\n",
    "\n",
    "----"
   ]
  },
  {
   "cell_type": "code",
   "execution_count": 16,
   "metadata": {},
   "outputs": [
    {
     "data": {
      "text/plain": [
       "['wikisource_vol1_ch1.htm',\n",
       " 'wikisource_vol1_ch2.htm',\n",
       " 'wikisource_vol1_ch3.htm',\n",
       " 'wikisource_vol1_ch4.htm',\n",
       " 'wikisource_vol1_ch5.htm',\n",
       " 'wikisource_vol1_ch6.htm',\n",
       " 'wikisource_vol1_ch7.htm',\n",
       " 'wikisource_vol2_ch10.htm',\n",
       " 'wikisource_vol2_ch11.htm',\n",
       " 'wikisource_vol2_ch12.htm',\n",
       " 'wikisource_vol2_ch8.htm',\n",
       " 'wikisource_vol2_ch9.htm']"
      ]
     },
     "execution_count": 16,
     "metadata": {},
     "output_type": "execute_result"
    }
   ],
   "source": [
    "filelist = [f for f in os.listdir('wikisource') if os.path.isfile(\"wikisource/\"+f) and f != 'Icon\\r']\n",
    "filelist"
   ]
  },
  {
   "cell_type": "markdown",
   "metadata": {},
   "source": [
    "----\n",
    "\n",
    "$\\uparrow$ That long line of code inside those square brackets is called a \"list comprehension\", and it's one of the cool features of Python. Essentially, it's a way of creating a new list by iterating through another list and performing some functions. Here, it's filtering out the folders and \"Icon\" file, and assigning the result to the variable \"`filelist`\"\n",
    "\n",
    "Here's a more detailed breakdown of the list comprehension:\n",
    "\n",
    "[f$^1$ for f in$^2$ os.listdir('wikisource')$^3$ if$^4$ os.path.isfile(\"wikisource/\"+f)$^5$ and f != 'Icon\\r'$^6$]\n",
    "\n",
    "1. `f` is just the name of the variable that we're using to represent every item in the list, like we did with the `for` loop earlier. If we were making modifications to the list items, this is where we would do it. For example, if we had a list of numbers, we could put `f*2` here instead, to multiply every number by two.\n",
    "2. `for f in ...` is the main syntax for a list comprehension. `[x*2 for x in list]` is a really simple list comprehension that multiplies everything in a list by two. It tells you what variable name it will use as a stand in for list items, and which list it's using as the basis of the list comprehension.\n",
    "3. Since `os.listdir('wikisource')` returns a list, we can use it like one without creating a variable for it and giving it its own name.\n",
    "4. The `if` is an optional part of the list comprehension, that puts conditions on which list items to include in the output list. The items will only be transformed and added to the new list if they pass those tests.\n",
    "5. First we check if our location is a file. We have to put \"`wikisource/`\" in front of the file name, since `os.listdir()` just returns names, not whole paths.\n",
    "6. We have an additional test for list items, and the item must pass both to be included because we've connected the two conditions with `and`. This test is just to eliminate that pesky Icon file.\n",
    "\n",
    "After that, we have a list of all of the files, and only the files, in the folder containing our HTML files. Let's parse all of our files!\n",
    "\n",
    "----"
   ]
  },
  {
   "cell_type": "code",
   "execution_count": 17,
   "metadata": {},
   "outputs": [
    {
     "name": "stdout",
     "output_type": "stream",
     "text": [
      "done with wikisource_vol1_ch1.htm\n",
      "done with wikisource_vol1_ch2.htm\n",
      "done with wikisource_vol1_ch3.htm\n",
      "done with wikisource_vol1_ch4.htm\n",
      "done with wikisource_vol1_ch5.htm\n",
      "done with wikisource_vol1_ch6.htm\n",
      "done with wikisource_vol1_ch7.htm\n",
      "done with wikisource_vol2_ch10.htm\n"
     ]
    },
    {
     "ename": "IndexError",
     "evalue": "list index out of range",
     "output_type": "error",
     "traceback": [
      "\u001b[0;31m---------------------------------------------------------------------------\u001b[0m",
      "\u001b[0;31mIndexError\u001b[0m                                Traceback (most recent call last)",
      "\u001b[0;32m<ipython-input-17-bb97cd43eb8c>\u001b[0m in \u001b[0;36m<module>\u001b[0;34m()\u001b[0m\n\u001b[1;32m      1\u001b[0m \u001b[0;32mfor\u001b[0m \u001b[0mfile\u001b[0m \u001b[0;32min\u001b[0m \u001b[0mfilelist\u001b[0m\u001b[0;34m:\u001b[0m\u001b[0;34m\u001b[0m\u001b[0m\n\u001b[0;32m----> 2\u001b[0;31m     \u001b[0mget_letters\u001b[0m\u001b[0;34m(\u001b[0m\u001b[0;34m\"wikisource/\"\u001b[0m\u001b[0;34m+\u001b[0m\u001b[0mfile\u001b[0m\u001b[0;34m)\u001b[0m\u001b[0;34m\u001b[0m\u001b[0m\n\u001b[0m\u001b[1;32m      3\u001b[0m     \u001b[0mprint\u001b[0m\u001b[0;34m(\u001b[0m\u001b[0;34m\"done with \"\u001b[0m\u001b[0;34m+\u001b[0m\u001b[0mfile\u001b[0m\u001b[0;34m)\u001b[0m\u001b[0;34m\u001b[0m\u001b[0m\n",
      "\u001b[0;32m<ipython-input-11-a809be56b494>\u001b[0m in \u001b[0;36mget_letters\u001b[0;34m(location)\u001b[0m\n\u001b[1;32m      3\u001b[0m     \u001b[0mtree\u001b[0m \u001b[0;34m=\u001b[0m \u001b[0mhtml\u001b[0m\u001b[0;34m.\u001b[0m\u001b[0mparse\u001b[0m\u001b[0;34m(\u001b[0m\u001b[0mlocation\u001b[0m\u001b[0;34m)\u001b[0m\u001b[0;34m\u001b[0m\u001b[0m\n\u001b[1;32m      4\u001b[0m     \u001b[0;31m# Parse the HTML of the document at the location given\u001b[0m\u001b[0;34m\u001b[0m\u001b[0;34m\u001b[0m\u001b[0m\n\u001b[0;32m----> 5\u001b[0;31m     \u001b[0mtext_element\u001b[0m \u001b[0;34m=\u001b[0m \u001b[0mtree\u001b[0m\u001b[0;34m.\u001b[0m\u001b[0mxpath\u001b[0m\u001b[0;34m(\u001b[0m\u001b[0;34m\"//div[@class='prose']\"\u001b[0m\u001b[0;34m)\u001b[0m\u001b[0;34m[\u001b[0m\u001b[0;36m0\u001b[0m\u001b[0;34m]\u001b[0m\u001b[0;34m\u001b[0m\u001b[0m\n\u001b[0m\u001b[1;32m      6\u001b[0m     \u001b[0;31m# Get the contents of the document that we're interested in with XPath\u001b[0m\u001b[0;34m\u001b[0m\u001b[0;34m\u001b[0m\u001b[0m\n\u001b[1;32m      7\u001b[0m     \u001b[0mtext_with_html\u001b[0m \u001b[0;34m=\u001b[0m \u001b[0mhtml\u001b[0m\u001b[0;34m.\u001b[0m\u001b[0mtostring\u001b[0m\u001b[0;34m(\u001b[0m\u001b[0mtext_element\u001b[0m\u001b[0;34m,\u001b[0m\u001b[0mencoding\u001b[0m\u001b[0;34m=\u001b[0m\u001b[0;34m\"unicode\"\u001b[0m\u001b[0;34m)\u001b[0m\u001b[0;34m\u001b[0m\u001b[0m\n",
      "\u001b[0;31mIndexError\u001b[0m: list index out of range"
     ]
    }
   ],
   "source": [
    "for file in filelist:\n",
    "    get_letters(\"wikisource/\"+file)\n",
    "    print(\"done with \"+file)"
   ]
  },
  {
   "cell_type": "markdown",
   "metadata": {},
   "source": [
    "## Errors\n",
    "\n",
    "Oh no! We've encountered an error!\n",
    "\n",
    "If you get into programming, this will happen to you all the time. In fact, this isn't a contrived error, it's a real problem I ran into parsing these documents. Fortunately, Python gives good feedback on errors, once you know how to interpret them.\n",
    "\n",
    "After the line of hyphens, the first think you see is \"`IndexError`\", which is the kind of error that was encountered. Then there is a \"stack trace\", which goes through the code involved, sometimes through several layers of nested functions, to point out the problem. \n",
    "\n",
    "In this case, the error happened when we were pruning the document with an XPath Expression.\n",
    "\n",
    "After the stack trace, you get the error again, with a longer description: \"`list index out of range`\". That gives us a clue as to where things were going wrong, since the list involved in that line was a list of elements returned by our XPath function. We wanted to get the first element returned by our XPath expression, so how could that cause a problem? Let's take a look."
   ]
  },
  {
   "cell_type": "code",
   "execution_count": 18,
   "metadata": {},
   "outputs": [
    {
     "data": {
      "text/plain": [
       "[]"
      ]
     },
     "execution_count": 18,
     "metadata": {},
     "output_type": "execute_result"
    }
   ],
   "source": [
    "ch11 = html.parse(\"wikisource/wikisource_vol2_ch11.htm\")\n",
    "# Get the HTML of the document as an html object\n",
    "text11 = ch11.xpath(\"//div[@class='prose']\")\n",
    "# Try out the XPath\n",
    "text11\n",
    "# Show the results"
   ]
  },
  {
   "cell_type": "markdown",
   "metadata": {},
   "source": [
    "Well there's our problem. That XPath isn't returning anything results. But why? Let's go to [the page](https://en.wikisource.org/wiki/The_Letters_of_Robert_Louis_Stevenson_Volume_2/Chapter_XI) and find out..."
   ]
  },
  {
   "cell_type": "code",
   "execution_count": 19,
   "metadata": {
    "collapsed": true
   },
   "outputs": [],
   "source": [
    "def get_letters(location):\n",
    "    tree = html.parse(location)\n",
    "    try:\n",
    "        text_element = tree.xpath(\"//div[@class='prose']\")[0]\n",
    "    except IndexError:\n",
    "        text_element = tree.xpath(\"//div[@class='mw-parser-output']\")[0]\n",
    "    # Our solution to that error is to use another Python convention: \n",
    "    # try stuff and then deal with errors that come up. In this case, we have a different XPath\n",
    "    # for when things go wrong with the first one\n",
    "    text_with_html = html.tostring(text_element,encoding=\"unicode\")\n",
    "    letters = text_with_html.split(\"<hr>\")\n",
    "    counter = 1\n",
    "    base_location = location.split('/')[-1]\n",
    "    base_location = base_location.replace('.htm','')\n",
    "    for l in letters:\n",
    "        with open(\"letters/\" + base_location + \"_letter\" + str(counter) + \".html\", \"w\") as fp:\n",
    "            fp.write(l)\n",
    "        counter += 1\n",
    "    return 0"
   ]
  },
  {
   "cell_type": "code",
   "execution_count": 20,
   "metadata": {},
   "outputs": [
    {
     "name": "stdout",
     "output_type": "stream",
     "text": [
      "done with wikisource_vol1_ch1.htm\n",
      "done with wikisource_vol1_ch2.htm\n",
      "done with wikisource_vol1_ch3.htm\n",
      "done with wikisource_vol1_ch4.htm\n",
      "done with wikisource_vol1_ch5.htm\n",
      "done with wikisource_vol1_ch6.htm\n",
      "done with wikisource_vol1_ch7.htm\n",
      "done with wikisource_vol2_ch10.htm\n",
      "done with wikisource_vol2_ch11.htm\n",
      "done with wikisource_vol2_ch12.htm\n",
      "done with wikisource_vol2_ch8.htm\n",
      "done with wikisource_vol2_ch9.htm\n"
     ]
    }
   ],
   "source": [
    "# Let's give that another try...\n",
    "for file in filelist:\n",
    "    get_letters(\"wikisource/\"+file)\n",
    "    print(\"done with \"+file)"
   ]
  },
  {
   "cell_type": "code",
   "execution_count": 21,
   "metadata": {},
   "outputs": [
    {
     "data": {
      "text/plain": [
       "['wikisource_vol1_ch1_letter1.html',\n",
       " 'wikisource_vol1_ch1_letter10.html',\n",
       " 'wikisource_vol1_ch1_letter11.html',\n",
       " 'wikisource_vol1_ch1_letter12.html',\n",
       " 'wikisource_vol1_ch1_letter13.html',\n",
       " 'wikisource_vol1_ch1_letter14.html',\n",
       " 'wikisource_vol1_ch1_letter15.html',\n",
       " 'wikisource_vol1_ch1_letter16.html',\n",
       " 'wikisource_vol1_ch1_letter2.html',\n",
       " 'wikisource_vol1_ch1_letter3.html',\n",
       " 'wikisource_vol1_ch1_letter4.html',\n",
       " 'wikisource_vol1_ch1_letter5.html',\n",
       " 'wikisource_vol1_ch1_letter6.html',\n",
       " 'wikisource_vol1_ch1_letter7.html',\n",
       " 'wikisource_vol1_ch1_letter8.html',\n",
       " 'wikisource_vol1_ch1_letter9.html',\n",
       " 'wikisource_vol1_ch2_letter1.html',\n",
       " 'wikisource_vol1_ch2_letter10.html',\n",
       " 'wikisource_vol1_ch2_letter11.html',\n",
       " 'wikisource_vol1_ch2_letter12.html',\n",
       " 'wikisource_vol1_ch2_letter13.html',\n",
       " 'wikisource_vol1_ch2_letter14.html',\n",
       " 'wikisource_vol1_ch2_letter15.html',\n",
       " 'wikisource_vol1_ch2_letter16.html',\n",
       " 'wikisource_vol1_ch2_letter17.html',\n",
       " 'wikisource_vol1_ch2_letter18.html',\n",
       " 'wikisource_vol1_ch2_letter19.html',\n",
       " 'wikisource_vol1_ch2_letter2.html',\n",
       " 'wikisource_vol1_ch2_letter20.html',\n",
       " 'wikisource_vol1_ch2_letter21.html',\n",
       " 'wikisource_vol1_ch2_letter22.html',\n",
       " 'wikisource_vol1_ch2_letter23.html',\n",
       " 'wikisource_vol1_ch2_letter24.html',\n",
       " 'wikisource_vol1_ch2_letter25.html',\n",
       " 'wikisource_vol1_ch2_letter26.html',\n",
       " 'wikisource_vol1_ch2_letter27.html',\n",
       " 'wikisource_vol1_ch2_letter3.html',\n",
       " 'wikisource_vol1_ch2_letter4.html',\n",
       " 'wikisource_vol1_ch2_letter5.html',\n",
       " 'wikisource_vol1_ch2_letter6.html',\n",
       " 'wikisource_vol1_ch2_letter7.html',\n",
       " 'wikisource_vol1_ch2_letter8.html',\n",
       " 'wikisource_vol1_ch2_letter9.html',\n",
       " 'wikisource_vol1_ch3_letter1.html',\n",
       " 'wikisource_vol1_ch3_letter10.html',\n",
       " 'wikisource_vol1_ch3_letter11.html',\n",
       " 'wikisource_vol1_ch3_letter12.html',\n",
       " 'wikisource_vol1_ch3_letter13.html',\n",
       " 'wikisource_vol1_ch3_letter14.html',\n",
       " 'wikisource_vol1_ch3_letter15.html',\n",
       " 'wikisource_vol1_ch3_letter16.html',\n",
       " 'wikisource_vol1_ch3_letter17.html',\n",
       " 'wikisource_vol1_ch3_letter18.html',\n",
       " 'wikisource_vol1_ch3_letter19.html',\n",
       " 'wikisource_vol1_ch3_letter2.html',\n",
       " 'wikisource_vol1_ch3_letter20.html',\n",
       " 'wikisource_vol1_ch3_letter21.html',\n",
       " 'wikisource_vol1_ch3_letter22.html',\n",
       " 'wikisource_vol1_ch3_letter23.html',\n",
       " 'wikisource_vol1_ch3_letter24.html',\n",
       " 'wikisource_vol1_ch3_letter25.html',\n",
       " 'wikisource_vol1_ch3_letter26.html',\n",
       " 'wikisource_vol1_ch3_letter27.html',\n",
       " 'wikisource_vol1_ch3_letter28.html',\n",
       " 'wikisource_vol1_ch3_letter29.html',\n",
       " 'wikisource_vol1_ch3_letter3.html',\n",
       " 'wikisource_vol1_ch3_letter30.html',\n",
       " 'wikisource_vol1_ch3_letter31.html',\n",
       " 'wikisource_vol1_ch3_letter4.html',\n",
       " 'wikisource_vol1_ch3_letter5.html',\n",
       " 'wikisource_vol1_ch3_letter6.html',\n",
       " 'wikisource_vol1_ch3_letter7.html',\n",
       " 'wikisource_vol1_ch3_letter8.html',\n",
       " 'wikisource_vol1_ch3_letter9.html',\n",
       " 'wikisource_vol1_ch4_letter1.html',\n",
       " 'wikisource_vol1_ch4_letter10.html',\n",
       " 'wikisource_vol1_ch4_letter11.html',\n",
       " 'wikisource_vol1_ch4_letter12.html',\n",
       " 'wikisource_vol1_ch4_letter13.html',\n",
       " 'wikisource_vol1_ch4_letter14.html',\n",
       " 'wikisource_vol1_ch4_letter15.html',\n",
       " 'wikisource_vol1_ch4_letter16.html',\n",
       " 'wikisource_vol1_ch4_letter17.html',\n",
       " 'wikisource_vol1_ch4_letter18.html',\n",
       " 'wikisource_vol1_ch4_letter19.html',\n",
       " 'wikisource_vol1_ch4_letter2.html',\n",
       " 'wikisource_vol1_ch4_letter20.html',\n",
       " 'wikisource_vol1_ch4_letter21.html',\n",
       " 'wikisource_vol1_ch4_letter22.html',\n",
       " 'wikisource_vol1_ch4_letter23.html',\n",
       " 'wikisource_vol1_ch4_letter24.html',\n",
       " 'wikisource_vol1_ch4_letter25.html',\n",
       " 'wikisource_vol1_ch4_letter26.html',\n",
       " 'wikisource_vol1_ch4_letter3.html',\n",
       " 'wikisource_vol1_ch4_letter4.html',\n",
       " 'wikisource_vol1_ch4_letter5.html',\n",
       " 'wikisource_vol1_ch4_letter6.html',\n",
       " 'wikisource_vol1_ch4_letter7.html',\n",
       " 'wikisource_vol1_ch4_letter8.html',\n",
       " 'wikisource_vol1_ch4_letter9.html',\n",
       " 'wikisource_vol1_ch5_letter1.html',\n",
       " 'wikisource_vol1_ch5_letter10.html',\n",
       " 'wikisource_vol1_ch5_letter11.html',\n",
       " 'wikisource_vol1_ch5_letter12.html',\n",
       " 'wikisource_vol1_ch5_letter13.html',\n",
       " 'wikisource_vol1_ch5_letter14.html',\n",
       " 'wikisource_vol1_ch5_letter15.html',\n",
       " 'wikisource_vol1_ch5_letter16.html',\n",
       " 'wikisource_vol1_ch5_letter17.html',\n",
       " 'wikisource_vol1_ch5_letter18.html',\n",
       " 'wikisource_vol1_ch5_letter19.html',\n",
       " 'wikisource_vol1_ch5_letter2.html',\n",
       " 'wikisource_vol1_ch5_letter20.html',\n",
       " 'wikisource_vol1_ch5_letter21.html',\n",
       " 'wikisource_vol1_ch5_letter22.html',\n",
       " 'wikisource_vol1_ch5_letter23.html',\n",
       " 'wikisource_vol1_ch5_letter24.html',\n",
       " 'wikisource_vol1_ch5_letter25.html',\n",
       " 'wikisource_vol1_ch5_letter26.html',\n",
       " 'wikisource_vol1_ch5_letter27.html',\n",
       " 'wikisource_vol1_ch5_letter28.html',\n",
       " 'wikisource_vol1_ch5_letter29.html',\n",
       " 'wikisource_vol1_ch5_letter3.html',\n",
       " 'wikisource_vol1_ch5_letter30.html',\n",
       " 'wikisource_vol1_ch5_letter31.html',\n",
       " 'wikisource_vol1_ch5_letter32.html',\n",
       " 'wikisource_vol1_ch5_letter33.html',\n",
       " 'wikisource_vol1_ch5_letter34.html',\n",
       " 'wikisource_vol1_ch5_letter35.html',\n",
       " 'wikisource_vol1_ch5_letter36.html',\n",
       " 'wikisource_vol1_ch5_letter37.html',\n",
       " 'wikisource_vol1_ch5_letter38.html',\n",
       " 'wikisource_vol1_ch5_letter39.html',\n",
       " 'wikisource_vol1_ch5_letter4.html',\n",
       " 'wikisource_vol1_ch5_letter40.html',\n",
       " 'wikisource_vol1_ch5_letter41.html',\n",
       " 'wikisource_vol1_ch5_letter42.html',\n",
       " 'wikisource_vol1_ch5_letter43.html',\n",
       " 'wikisource_vol1_ch5_letter44.html',\n",
       " 'wikisource_vol1_ch5_letter45.html',\n",
       " 'wikisource_vol1_ch5_letter46.html',\n",
       " 'wikisource_vol1_ch5_letter47.html',\n",
       " 'wikisource_vol1_ch5_letter48.html',\n",
       " 'wikisource_vol1_ch5_letter49.html',\n",
       " 'wikisource_vol1_ch5_letter5.html',\n",
       " 'wikisource_vol1_ch5_letter6.html',\n",
       " 'wikisource_vol1_ch5_letter7.html',\n",
       " 'wikisource_vol1_ch5_letter8.html',\n",
       " 'wikisource_vol1_ch5_letter9.html',\n",
       " 'wikisource_vol1_ch6_letter1.html',\n",
       " 'wikisource_vol1_ch6_letter10.html',\n",
       " 'wikisource_vol1_ch6_letter11.html',\n",
       " 'wikisource_vol1_ch6_letter12.html',\n",
       " 'wikisource_vol1_ch6_letter13.html',\n",
       " 'wikisource_vol1_ch6_letter14.html',\n",
       " 'wikisource_vol1_ch6_letter15.html',\n",
       " 'wikisource_vol1_ch6_letter16.html',\n",
       " 'wikisource_vol1_ch6_letter17.html',\n",
       " 'wikisource_vol1_ch6_letter18.html',\n",
       " 'wikisource_vol1_ch6_letter19.html',\n",
       " 'wikisource_vol1_ch6_letter2.html',\n",
       " 'wikisource_vol1_ch6_letter20.html',\n",
       " 'wikisource_vol1_ch6_letter21.html',\n",
       " 'wikisource_vol1_ch6_letter22.html',\n",
       " 'wikisource_vol1_ch6_letter23.html',\n",
       " 'wikisource_vol1_ch6_letter24.html',\n",
       " 'wikisource_vol1_ch6_letter25.html',\n",
       " 'wikisource_vol1_ch6_letter26.html',\n",
       " 'wikisource_vol1_ch6_letter27.html',\n",
       " 'wikisource_vol1_ch6_letter28.html',\n",
       " 'wikisource_vol1_ch6_letter29.html',\n",
       " 'wikisource_vol1_ch6_letter3.html',\n",
       " 'wikisource_vol1_ch6_letter30.html',\n",
       " 'wikisource_vol1_ch6_letter31.html',\n",
       " 'wikisource_vol1_ch6_letter32.html',\n",
       " 'wikisource_vol1_ch6_letter33.html',\n",
       " 'wikisource_vol1_ch6_letter34.html',\n",
       " 'wikisource_vol1_ch6_letter35.html',\n",
       " 'wikisource_vol1_ch6_letter36.html',\n",
       " 'wikisource_vol1_ch6_letter37.html',\n",
       " 'wikisource_vol1_ch6_letter38.html',\n",
       " 'wikisource_vol1_ch6_letter39.html',\n",
       " 'wikisource_vol1_ch6_letter4.html',\n",
       " 'wikisource_vol1_ch6_letter40.html',\n",
       " 'wikisource_vol1_ch6_letter41.html',\n",
       " 'wikisource_vol1_ch6_letter42.html',\n",
       " 'wikisource_vol1_ch6_letter43.html',\n",
       " 'wikisource_vol1_ch6_letter44.html',\n",
       " 'wikisource_vol1_ch6_letter45.html',\n",
       " 'wikisource_vol1_ch6_letter46.html',\n",
       " 'wikisource_vol1_ch6_letter47.html',\n",
       " 'wikisource_vol1_ch6_letter48.html',\n",
       " 'wikisource_vol1_ch6_letter49.html',\n",
       " 'wikisource_vol1_ch6_letter5.html',\n",
       " 'wikisource_vol1_ch6_letter50.html',\n",
       " 'wikisource_vol1_ch6_letter51.html',\n",
       " 'wikisource_vol1_ch6_letter52.html',\n",
       " 'wikisource_vol1_ch6_letter6.html',\n",
       " 'wikisource_vol1_ch6_letter7.html',\n",
       " 'wikisource_vol1_ch6_letter8.html',\n",
       " 'wikisource_vol1_ch6_letter9.html',\n",
       " 'wikisource_vol1_ch7_letter1.html',\n",
       " 'wikisource_vol1_ch7_letter10.html',\n",
       " 'wikisource_vol1_ch7_letter11.html',\n",
       " 'wikisource_vol1_ch7_letter12.html',\n",
       " 'wikisource_vol1_ch7_letter13.html',\n",
       " 'wikisource_vol1_ch7_letter14.html',\n",
       " 'wikisource_vol1_ch7_letter15.html',\n",
       " 'wikisource_vol1_ch7_letter16.html',\n",
       " 'wikisource_vol1_ch7_letter17.html',\n",
       " 'wikisource_vol1_ch7_letter18.html',\n",
       " 'wikisource_vol1_ch7_letter19.html',\n",
       " 'wikisource_vol1_ch7_letter2.html',\n",
       " 'wikisource_vol1_ch7_letter20.html',\n",
       " 'wikisource_vol1_ch7_letter21.html',\n",
       " 'wikisource_vol1_ch7_letter22.html',\n",
       " 'wikisource_vol1_ch7_letter23.html',\n",
       " 'wikisource_vol1_ch7_letter24.html',\n",
       " 'wikisource_vol1_ch7_letter25.html',\n",
       " 'wikisource_vol1_ch7_letter26.html',\n",
       " 'wikisource_vol1_ch7_letter27.html',\n",
       " 'wikisource_vol1_ch7_letter28.html',\n",
       " 'wikisource_vol1_ch7_letter29.html',\n",
       " 'wikisource_vol1_ch7_letter3.html',\n",
       " 'wikisource_vol1_ch7_letter30.html',\n",
       " 'wikisource_vol1_ch7_letter31.html',\n",
       " 'wikisource_vol1_ch7_letter32.html',\n",
       " 'wikisource_vol1_ch7_letter33.html',\n",
       " 'wikisource_vol1_ch7_letter34.html',\n",
       " 'wikisource_vol1_ch7_letter35.html',\n",
       " 'wikisource_vol1_ch7_letter36.html',\n",
       " 'wikisource_vol1_ch7_letter37.html',\n",
       " 'wikisource_vol1_ch7_letter4.html',\n",
       " 'wikisource_vol1_ch7_letter5.html',\n",
       " 'wikisource_vol1_ch7_letter6.html',\n",
       " 'wikisource_vol1_ch7_letter7.html',\n",
       " 'wikisource_vol1_ch7_letter8.html',\n",
       " 'wikisource_vol1_ch7_letter9.html',\n",
       " 'wikisource_vol2_ch10_letter1.html',\n",
       " 'wikisource_vol2_ch10_letter10.html',\n",
       " 'wikisource_vol2_ch10_letter11.html',\n",
       " 'wikisource_vol2_ch10_letter12.html',\n",
       " 'wikisource_vol2_ch10_letter13.html',\n",
       " 'wikisource_vol2_ch10_letter14.html',\n",
       " 'wikisource_vol2_ch10_letter15.html',\n",
       " 'wikisource_vol2_ch10_letter16.html',\n",
       " 'wikisource_vol2_ch10_letter17.html',\n",
       " 'wikisource_vol2_ch10_letter18.html',\n",
       " 'wikisource_vol2_ch10_letter19.html',\n",
       " 'wikisource_vol2_ch10_letter2.html',\n",
       " 'wikisource_vol2_ch10_letter20.html',\n",
       " 'wikisource_vol2_ch10_letter21.html',\n",
       " 'wikisource_vol2_ch10_letter22.html',\n",
       " 'wikisource_vol2_ch10_letter23.html',\n",
       " 'wikisource_vol2_ch10_letter24.html',\n",
       " 'wikisource_vol2_ch10_letter25.html',\n",
       " 'wikisource_vol2_ch10_letter26.html',\n",
       " 'wikisource_vol2_ch10_letter27.html',\n",
       " 'wikisource_vol2_ch10_letter28.html',\n",
       " 'wikisource_vol2_ch10_letter29.html',\n",
       " 'wikisource_vol2_ch10_letter3.html',\n",
       " 'wikisource_vol2_ch10_letter30.html',\n",
       " 'wikisource_vol2_ch10_letter31.html',\n",
       " 'wikisource_vol2_ch10_letter32.html',\n",
       " 'wikisource_vol2_ch10_letter33.html',\n",
       " 'wikisource_vol2_ch10_letter34.html',\n",
       " 'wikisource_vol2_ch10_letter35.html',\n",
       " 'wikisource_vol2_ch10_letter36.html',\n",
       " 'wikisource_vol2_ch10_letter37.html',\n",
       " 'wikisource_vol2_ch10_letter38.html',\n",
       " 'wikisource_vol2_ch10_letter39.html',\n",
       " 'wikisource_vol2_ch10_letter4.html',\n",
       " 'wikisource_vol2_ch10_letter40.html',\n",
       " 'wikisource_vol2_ch10_letter41.html',\n",
       " 'wikisource_vol2_ch10_letter42.html',\n",
       " 'wikisource_vol2_ch10_letter43.html',\n",
       " 'wikisource_vol2_ch10_letter44.html',\n",
       " 'wikisource_vol2_ch10_letter5.html',\n",
       " 'wikisource_vol2_ch10_letter6.html',\n",
       " 'wikisource_vol2_ch10_letter7.html',\n",
       " 'wikisource_vol2_ch10_letter8.html',\n",
       " 'wikisource_vol2_ch10_letter9.html',\n",
       " 'wikisource_vol2_ch11_letter1.html',\n",
       " 'wikisource_vol2_ch11_letter10.html',\n",
       " 'wikisource_vol2_ch11_letter11.html',\n",
       " 'wikisource_vol2_ch11_letter12.html',\n",
       " 'wikisource_vol2_ch11_letter13.html',\n",
       " 'wikisource_vol2_ch11_letter14.html',\n",
       " 'wikisource_vol2_ch11_letter15.html',\n",
       " 'wikisource_vol2_ch11_letter16.html',\n",
       " 'wikisource_vol2_ch11_letter17.html',\n",
       " 'wikisource_vol2_ch11_letter18.html',\n",
       " 'wikisource_vol2_ch11_letter19.html',\n",
       " 'wikisource_vol2_ch11_letter2.html',\n",
       " 'wikisource_vol2_ch11_letter20.html',\n",
       " 'wikisource_vol2_ch11_letter21.html',\n",
       " 'wikisource_vol2_ch11_letter22.html',\n",
       " 'wikisource_vol2_ch11_letter23.html',\n",
       " 'wikisource_vol2_ch11_letter24.html',\n",
       " 'wikisource_vol2_ch11_letter25.html',\n",
       " 'wikisource_vol2_ch11_letter26.html',\n",
       " 'wikisource_vol2_ch11_letter27.html',\n",
       " 'wikisource_vol2_ch11_letter28.html',\n",
       " 'wikisource_vol2_ch11_letter29.html',\n",
       " 'wikisource_vol2_ch11_letter3.html',\n",
       " 'wikisource_vol2_ch11_letter30.html',\n",
       " 'wikisource_vol2_ch11_letter31.html',\n",
       " 'wikisource_vol2_ch11_letter32.html',\n",
       " 'wikisource_vol2_ch11_letter33.html',\n",
       " 'wikisource_vol2_ch11_letter34.html',\n",
       " 'wikisource_vol2_ch11_letter35.html',\n",
       " 'wikisource_vol2_ch11_letter36.html',\n",
       " 'wikisource_vol2_ch11_letter37.html',\n",
       " 'wikisource_vol2_ch11_letter38.html',\n",
       " 'wikisource_vol2_ch11_letter39.html',\n",
       " 'wikisource_vol2_ch11_letter4.html',\n",
       " 'wikisource_vol2_ch11_letter40.html',\n",
       " 'wikisource_vol2_ch11_letter41.html',\n",
       " 'wikisource_vol2_ch11_letter42.html',\n",
       " 'wikisource_vol2_ch11_letter43.html',\n",
       " 'wikisource_vol2_ch11_letter44.html',\n",
       " 'wikisource_vol2_ch11_letter45.html',\n",
       " 'wikisource_vol2_ch11_letter46.html',\n",
       " 'wikisource_vol2_ch11_letter47.html',\n",
       " 'wikisource_vol2_ch11_letter5.html',\n",
       " 'wikisource_vol2_ch11_letter6.html',\n",
       " 'wikisource_vol2_ch11_letter7.html',\n",
       " 'wikisource_vol2_ch11_letter8.html',\n",
       " 'wikisource_vol2_ch11_letter9.html',\n",
       " 'wikisource_vol2_ch12_letter1.html',\n",
       " 'wikisource_vol2_ch12_letter10.html',\n",
       " 'wikisource_vol2_ch12_letter11.html',\n",
       " 'wikisource_vol2_ch12_letter12.html',\n",
       " 'wikisource_vol2_ch12_letter13.html',\n",
       " 'wikisource_vol2_ch12_letter14.html',\n",
       " 'wikisource_vol2_ch12_letter15.html',\n",
       " 'wikisource_vol2_ch12_letter16.html',\n",
       " 'wikisource_vol2_ch12_letter17.html',\n",
       " 'wikisource_vol2_ch12_letter18.html',\n",
       " 'wikisource_vol2_ch12_letter19.html',\n",
       " 'wikisource_vol2_ch12_letter2.html',\n",
       " 'wikisource_vol2_ch12_letter20.html',\n",
       " 'wikisource_vol2_ch12_letter21.html',\n",
       " 'wikisource_vol2_ch12_letter22.html',\n",
       " 'wikisource_vol2_ch12_letter23.html',\n",
       " 'wikisource_vol2_ch12_letter24.html',\n",
       " 'wikisource_vol2_ch12_letter25.html',\n",
       " 'wikisource_vol2_ch12_letter26.html',\n",
       " 'wikisource_vol2_ch12_letter27.html',\n",
       " 'wikisource_vol2_ch12_letter28.html',\n",
       " 'wikisource_vol2_ch12_letter29.html',\n",
       " 'wikisource_vol2_ch12_letter3.html',\n",
       " 'wikisource_vol2_ch12_letter30.html',\n",
       " 'wikisource_vol2_ch12_letter31.html',\n",
       " 'wikisource_vol2_ch12_letter32.html',\n",
       " 'wikisource_vol2_ch12_letter33.html',\n",
       " 'wikisource_vol2_ch12_letter34.html',\n",
       " 'wikisource_vol2_ch12_letter35.html',\n",
       " 'wikisource_vol2_ch12_letter36.html',\n",
       " 'wikisource_vol2_ch12_letter37.html',\n",
       " 'wikisource_vol2_ch12_letter38.html',\n",
       " 'wikisource_vol2_ch12_letter39.html',\n",
       " 'wikisource_vol2_ch12_letter4.html',\n",
       " 'wikisource_vol2_ch12_letter40.html',\n",
       " 'wikisource_vol2_ch12_letter41.html',\n",
       " 'wikisource_vol2_ch12_letter42.html',\n",
       " 'wikisource_vol2_ch12_letter43.html',\n",
       " 'wikisource_vol2_ch12_letter44.html',\n",
       " 'wikisource_vol2_ch12_letter45.html',\n",
       " 'wikisource_vol2_ch12_letter46.html',\n",
       " 'wikisource_vol2_ch12_letter47.html',\n",
       " 'wikisource_vol2_ch12_letter48.html',\n",
       " 'wikisource_vol2_ch12_letter49.html',\n",
       " 'wikisource_vol2_ch12_letter5.html',\n",
       " 'wikisource_vol2_ch12_letter50.html',\n",
       " 'wikisource_vol2_ch12_letter51.html',\n",
       " 'wikisource_vol2_ch12_letter52.html',\n",
       " 'wikisource_vol2_ch12_letter6.html',\n",
       " 'wikisource_vol2_ch12_letter7.html',\n",
       " 'wikisource_vol2_ch12_letter8.html',\n",
       " 'wikisource_vol2_ch12_letter9.html',\n",
       " 'wikisource_vol2_ch8_letter1.html',\n",
       " 'wikisource_vol2_ch8_letter10.html',\n",
       " 'wikisource_vol2_ch8_letter11.html',\n",
       " 'wikisource_vol2_ch8_letter12.html',\n",
       " 'wikisource_vol2_ch8_letter13.html',\n",
       " 'wikisource_vol2_ch8_letter14.html',\n",
       " 'wikisource_vol2_ch8_letter15.html',\n",
       " 'wikisource_vol2_ch8_letter16.html',\n",
       " 'wikisource_vol2_ch8_letter17.html',\n",
       " 'wikisource_vol2_ch8_letter18.html',\n",
       " 'wikisource_vol2_ch8_letter19.html',\n",
       " 'wikisource_vol2_ch8_letter2.html',\n",
       " 'wikisource_vol2_ch8_letter20.html',\n",
       " 'wikisource_vol2_ch8_letter21.html',\n",
       " 'wikisource_vol2_ch8_letter22.html',\n",
       " 'wikisource_vol2_ch8_letter23.html',\n",
       " 'wikisource_vol2_ch8_letter24.html',\n",
       " 'wikisource_vol2_ch8_letter25.html',\n",
       " 'wikisource_vol2_ch8_letter26.html',\n",
       " 'wikisource_vol2_ch8_letter27.html',\n",
       " 'wikisource_vol2_ch8_letter28.html',\n",
       " 'wikisource_vol2_ch8_letter29.html',\n",
       " 'wikisource_vol2_ch8_letter3.html',\n",
       " 'wikisource_vol2_ch8_letter30.html',\n",
       " 'wikisource_vol2_ch8_letter31.html',\n",
       " 'wikisource_vol2_ch8_letter32.html',\n",
       " 'wikisource_vol2_ch8_letter33.html',\n",
       " 'wikisource_vol2_ch8_letter34.html',\n",
       " 'wikisource_vol2_ch8_letter35.html',\n",
       " 'wikisource_vol2_ch8_letter4.html',\n",
       " 'wikisource_vol2_ch8_letter5.html',\n",
       " 'wikisource_vol2_ch8_letter6.html',\n",
       " 'wikisource_vol2_ch8_letter7.html',\n",
       " 'wikisource_vol2_ch8_letter8.html',\n",
       " 'wikisource_vol2_ch8_letter9.html',\n",
       " 'wikisource_vol2_ch9_letter1.html',\n",
       " 'wikisource_vol2_ch9_letter10.html',\n",
       " 'wikisource_vol2_ch9_letter11.html',\n",
       " 'wikisource_vol2_ch9_letter12.html',\n",
       " 'wikisource_vol2_ch9_letter13.html',\n",
       " 'wikisource_vol2_ch9_letter14.html',\n",
       " 'wikisource_vol2_ch9_letter15.html',\n",
       " 'wikisource_vol2_ch9_letter16.html',\n",
       " 'wikisource_vol2_ch9_letter17.html',\n",
       " 'wikisource_vol2_ch9_letter18.html',\n",
       " 'wikisource_vol2_ch9_letter19.html',\n",
       " 'wikisource_vol2_ch9_letter2.html',\n",
       " 'wikisource_vol2_ch9_letter20.html',\n",
       " 'wikisource_vol2_ch9_letter21.html',\n",
       " 'wikisource_vol2_ch9_letter22.html',\n",
       " 'wikisource_vol2_ch9_letter23.html',\n",
       " 'wikisource_vol2_ch9_letter24.html',\n",
       " 'wikisource_vol2_ch9_letter25.html',\n",
       " 'wikisource_vol2_ch9_letter26.html',\n",
       " 'wikisource_vol2_ch9_letter27.html',\n",
       " 'wikisource_vol2_ch9_letter28.html',\n",
       " 'wikisource_vol2_ch9_letter29.html',\n",
       " 'wikisource_vol2_ch9_letter3.html',\n",
       " 'wikisource_vol2_ch9_letter30.html',\n",
       " 'wikisource_vol2_ch9_letter31.html',\n",
       " 'wikisource_vol2_ch9_letter32.html',\n",
       " 'wikisource_vol2_ch9_letter33.html',\n",
       " 'wikisource_vol2_ch9_letter34.html',\n",
       " 'wikisource_vol2_ch9_letter35.html',\n",
       " 'wikisource_vol2_ch9_letter36.html',\n",
       " 'wikisource_vol2_ch9_letter37.html',\n",
       " 'wikisource_vol2_ch9_letter38.html',\n",
       " 'wikisource_vol2_ch9_letter39.html',\n",
       " 'wikisource_vol2_ch9_letter4.html',\n",
       " 'wikisource_vol2_ch9_letter40.html',\n",
       " 'wikisource_vol2_ch9_letter41.html',\n",
       " 'wikisource_vol2_ch9_letter42.html',\n",
       " 'wikisource_vol2_ch9_letter43.html',\n",
       " 'wikisource_vol2_ch9_letter44.html',\n",
       " 'wikisource_vol2_ch9_letter45.html',\n",
       " 'wikisource_vol2_ch9_letter46.html',\n",
       " 'wikisource_vol2_ch9_letter5.html',\n",
       " 'wikisource_vol2_ch9_letter6.html',\n",
       " 'wikisource_vol2_ch9_letter7.html',\n",
       " 'wikisource_vol2_ch9_letter8.html',\n",
       " 'wikisource_vol2_ch9_letter9.html']"
      ]
     },
     "execution_count": 21,
     "metadata": {},
     "output_type": "execute_result"
    }
   ],
   "source": [
    "os.listdir('letters')"
   ]
  },
  {
   "cell_type": "code",
   "execution_count": 22,
   "metadata": {},
   "outputs": [
    {
     "data": {
      "text/plain": [
       "462"
      ]
     },
     "execution_count": 22,
     "metadata": {},
     "output_type": "execute_result"
    }
   ],
   "source": [
    "len(os.listdir('letters'))"
   ]
  },
  {
   "cell_type": "markdown",
   "metadata": {},
   "source": [
    "There we have it! We've parsed the letters into 462 separate files! You can see how quick it was to go from 16 files to 462, and when you're using a programming language for your work, you can anticipate similar scalability. What's more, in doing so we've created a record of exaclty how we got here."
   ]
  }
 ],
 "metadata": {
  "kernelspec": {
   "display_name": "Python 3",
   "language": "python",
   "name": "python3"
  },
  "language_info": {
   "codemirror_mode": {
    "name": "ipython",
    "version": 3
   },
   "file_extension": ".py",
   "mimetype": "text/x-python",
   "name": "python",
   "nbconvert_exporter": "python",
   "pygments_lexer": "ipython3",
   "version": "3.6.1"
  }
 },
 "nbformat": 4,
 "nbformat_minor": 2
}
