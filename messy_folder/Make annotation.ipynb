{
 "cells": [
  {
   "cell_type": "code",
   "execution_count": 1,
   "metadata": {
    "collapsed": true
   },
   "outputs": [],
   "source": [
    "from lxml import html"
   ]
  },
  {
   "cell_type": "code",
   "execution_count": 21,
   "metadata": {},
   "outputs": [
    {
     "data": {
      "text/plain": [
       "b'<span style=\"color:#dad;\"><span>hello goodbye</span></span>'"
      ]
     },
     "execution_count": 21,
     "metadata": {},
     "output_type": "execute_result"
    }
   ],
   "source": [
    "test = html.Element(\"span\",style=\"color:#dad;\")\n",
    "# test.text=\"hello_world\"\n",
    "test2 = html.Element(\"span\")\n",
    "test2.text=\"hello goodbye\"\n",
    "test.append(test2)\n",
    "html.tostring(test)"
   ]
  },
  {
   "cell_type": "code",
   "execution_count": 8,
   "metadata": {
    "collapsed": true
   },
   "outputs": [],
   "source": [
    "test = ['foo','bar']"
   ]
  },
  {
   "cell_type": "code",
   "execution_count": 45,
   "metadata": {},
   "outputs": [],
   "source": [
    "def make_annotation(annotation_list):\n",
    "    \"\"\"Take a list of two-item lists and return html markup that annotates \n",
    "    the first items with the contents of the second items.\"\"\"\n",
    "    colors = ['#e41a1c','#377eb8','#4daf4a','#984ea3','#ff7f00','#cccc00','#a65628','#f781bf','#999999']\n",
    "    text = html.Element(\"span\",style=\"font-family:monospace;\")\n",
    "    markup = html.Element(\"ol\")\n",
    "    for i,note in enumerate(annotation_list):\n",
    "        text_part = html.Element(\"span\",style=\"color:{};\".format(colors[i]))\n",
    "        text_part.text = note[0]\n",
    "        superscript = html.Element('sup')\n",
    "        superscript.text = str(i+1)\n",
    "        text_part.append(superscript)\n",
    "        markup_part = html.Element(\"li\",style=\"color:{};\".format(colors[i]))\n",
    "        markup_part.text = note[1]\n",
    "        text.append(text_part)\n",
    "        markup.append(markup_part)\n",
    "    container = html.Element(\"div\")\n",
    "    container.append(text)\n",
    "    container.append(markup)\n",
    "    return html.tostring(container,encoding=\"UTF8\")"
   ]
  },
  {
   "cell_type": "code",
   "execution_count": 46,
   "metadata": {},
   "outputs": [
    {
     "data": {
      "text/plain": [
       "b'<div><span style=\"font-family:monospace;\"><span style=\"color:#e41a1c;\">foo<sup>1</sup></span><span style=\"color:#377eb8;\">boo<sup>2</sup></span></span><ol><li style=\"color:#e41a1c;\">bar</li><li style=\"color:#377eb8;\">baz</li></ol></div>'"
      ]
     },
     "execution_count": 46,
     "metadata": {},
     "output_type": "execute_result"
    }
   ],
   "source": [
    "make_annotation([['foo','bar'],['boo','baz']])"
   ]
  },
  {
   "cell_type": "code",
   "execution_count": 49,
   "metadata": {},
   "outputs": [
    {
     "data": {
      "text/plain": [
       "b'<div><span style=\"font-family:monospace;\"><span style=\"color:#e41a1c;\">ch1<sup>1</sup></span><span style=\"color:#377eb8;\"> = <sup>2</sup></span><span style=\"color:#4daf4a;\">html<sup>3</sup></span><span style=\"color:#984ea3;\">.<sup>4</sup></span><span style=\"color:#ff7f00;\">parse<sup>5</sup></span><span style=\"color:#cccc00;\">(<sup>6</sup></span><span style=\"color:#a65628;\">\"wikisource/wikisource_vol1_ch1.htm\"<sup>7</sup></span><span style=\"color:#f781bf;\">)<sup>8</sup></span></span><ol><li style=\"color:#e41a1c;\">We are creating a variable, and calling it \"ch1\"</li><li style=\"color:#377eb8;\">This single equals sign is what we use to assign a variable name to whatever is to its right</li><li style=\"color:#4daf4a;\">Here we are using th \"html\" module that we imported in the previous cell</li><li style=\"color:#984ea3;\">This single period or \"dot\" is used to access attributes of an object, so what follows is an attribute of \"html\"</li><li style=\"color:#ff7f00;\">This is a function attribute of html called \"parse\"</li><li style=\"color:#cccc00;\">This is parenthesis indicates that the word before it is a function. Within the parentheses are the arguments of the function</li><li style=\"color:#a65628;\">This is the only argument we are giving to the function, the relative location of an html document. It is represented as a \"string\", which is what you call an object that you want to work with as text (in contrast to other data types, like numbers and lists)</li><li style=\"color:#f781bf;\">This parenthesis closes out the function arguments.</li></ol></div>'"
      ]
     },
     "execution_count": 49,
     "metadata": {},
     "output_type": "execute_result"
    }
   ],
   "source": [
    "annotation = [\n",
    "    [\"ch1\",'We are creating a variable, and calling it \"ch1\"'],\n",
    "    [\" = \",'This single equals sign is what we use to assign a variable name to whatever is to its right'],\n",
    "    [\"html\",'Here we are using th \"html\" module that we imported in the previous cell'],\n",
    "    [\".\",'This single period or \"dot\" is used to access attributes of an object, so what follows is an attribute of \\\n",
    "\"html\"'],\n",
    "    [\"parse\",'This is a function attribute of html called \"parse\"'],\n",
    "    ['(','This is parenthesis indicates that the word before it is a function. Within the parentheses are the \\\n",
    "arguments of the function'],\n",
    "    ['\"wikisource/wikisource_vol1_ch1.htm\"','This is the only argument we are giving to the function, the relative \\\n",
    "location of an html document. It is represented as a \"string\", which is what you call an object that you want \\\n",
    "to work with as text (in contrast to other data types, like numbers and lists)'],\n",
    "    [\")\",\"This parenthesis closes out the function arguments.\"]\n",
    "]\n",
    "make_annotation(annotation)"
   ]
  }
 ],
 "metadata": {
  "kernelspec": {
   "display_name": "Python 3",
   "language": "python",
   "name": "python3"
  },
  "language_info": {
   "codemirror_mode": {
    "name": "ipython",
    "version": 3
   },
   "file_extension": ".py",
   "mimetype": "text/x-python",
   "name": "python",
   "nbconvert_exporter": "python",
   "pygments_lexer": "ipython3",
   "version": "3.6.1"
  }
 },
 "nbformat": 4,
 "nbformat_minor": 2
}
